{
 "cells": [
  {
   "cell_type": "markdown",
   "metadata": {
    "id": "O6_OCTFzu8lE"
   },
   "source": [
    "## Домашнее задание 3 (10 баллов)"
   ]
  },
  {
   "cell_type": "markdown",
   "metadata": {
    "id": "rIc6VNYLu8lK"
   },
   "source": [
    "### О задании"
   ]
  },
  {
   "cell_type": "markdown",
   "metadata": {
    "id": "xRsXxtgNu8lM"
   },
   "source": [
    "В этом домашнем задании вы получите опыт подготовки данных и EDA (Exploratory Data Analysis), приблизившись к реальной работе с данными с помощью уже знакомых вам инструментов: numpy, pandas, matplotlib и seaborn."
   ]
  },
  {
   "cell_type": "markdown",
   "metadata": {
    "id": "01c_ZXgNu8ld"
   },
   "source": [
    "Вы будет работать с задачей кредитного скоринга (оценка надёжности клиента). Предоставляются данные о 1000 клиентов, про которых известно около 20 признаков и положительная или отрицательная оценка в качестве кредитуемого. Эти данные нужно будет подготовить, исследовать (в том числе с помощью средств визуализации) и даже попробовать предложить какую-нибудь формулу для условной оценки надёжности клиентов исходя из предоставленных данных. Описание данных:\n",
    "https://www.rdocumentation.org/packages/evtree/versions/1.0-8/topics/GermanCredit\n",
    "\n",
    "Каждый построенный график необходимо красиво оформить - для этого требуется как минимум указать его название, а также отметить, что изображено по каждой из осей.\n",
    "Также по каждому графику ожидается небольшой комментарий с выводами.\n",
    "\n",
    "*Функции, которые могут пригодиться при оформлении графиков: `.show()`, `.title()`, `.xlabel()`, `.ylabel()`*"
   ]
  },
  {
   "cell_type": "code",
   "execution_count": 1,
   "metadata": {
    "id": "kbKMD992u8ld"
   },
   "outputs": [],
   "source": [
    "import pandas as pd\n",
    "import numpy as np"
   ]
  },
  {
   "cell_type": "markdown",
   "metadata": {
    "id": "PoKE3PySu8ld"
   },
   "source": [
    "### Задание 1 (0.0 балла)"
   ]
  },
  {
   "cell_type": "markdown",
   "metadata": {
    "id": "sMh8vvlNu8ld"
   },
   "source": [
    "Прочитайте средствами pandas файл с данными по ссылке https://raw.githubusercontent.com/hse-ds/iad-intro-ds/master/2022/homeworks/hw03-EDA/german_credit.csv. Выведите базовое представление таблицы (первые 5 и последние 5 строк, размер)."
   ]
  },
  {
   "cell_type": "code",
   "execution_count": 2,
   "metadata": {
    "id": "cRtVjoMlu8le"
   },
   "outputs": [
    {
     "data": {
      "text/html": [
       "<div>\n",
       "<style scoped>\n",
       "    .dataframe tbody tr th:only-of-type {\n",
       "        vertical-align: middle;\n",
       "    }\n",
       "\n",
       "    .dataframe tbody tr th {\n",
       "        vertical-align: top;\n",
       "    }\n",
       "\n",
       "    .dataframe thead th {\n",
       "        text-align: right;\n",
       "    }\n",
       "</style>\n",
       "<table border=\"1\" class=\"dataframe\">\n",
       "  <thead>\n",
       "    <tr style=\"text-align: right;\">\n",
       "      <th></th>\n",
       "      <th>status</th>\n",
       "      <th>duration</th>\n",
       "      <th>credit_history</th>\n",
       "      <th>purpose</th>\n",
       "      <th>amount</th>\n",
       "      <th>savings</th>\n",
       "      <th>employment_duration</th>\n",
       "      <th>installment_rate</th>\n",
       "      <th>personal_status_sex</th>\n",
       "      <th>other_debtors</th>\n",
       "      <th>...</th>\n",
       "      <th>property</th>\n",
       "      <th>age</th>\n",
       "      <th>other_installment_plans</th>\n",
       "      <th>housing</th>\n",
       "      <th>number_credits</th>\n",
       "      <th>job</th>\n",
       "      <th>people_liable</th>\n",
       "      <th>telephone</th>\n",
       "      <th>foreign_worker</th>\n",
       "      <th>credit_risk</th>\n",
       "    </tr>\n",
       "  </thead>\n",
       "  <tbody>\n",
       "    <tr>\n",
       "      <th>0</th>\n",
       "      <td>no checking account</td>\n",
       "      <td>18</td>\n",
       "      <td>all credits at this bank paid back duly</td>\n",
       "      <td>car (used)</td>\n",
       "      <td>1049</td>\n",
       "      <td>unknown/no savings account</td>\n",
       "      <td>&lt; 1 yr</td>\n",
       "      <td>&lt; 20</td>\n",
       "      <td>female : non-single or male : single</td>\n",
       "      <td>none</td>\n",
       "      <td>...</td>\n",
       "      <td>car or other</td>\n",
       "      <td>21</td>\n",
       "      <td>none</td>\n",
       "      <td>for free</td>\n",
       "      <td>1</td>\n",
       "      <td>skilled employee/official</td>\n",
       "      <td>0 to 2</td>\n",
       "      <td>no</td>\n",
       "      <td>no</td>\n",
       "      <td>good</td>\n",
       "    </tr>\n",
       "    <tr>\n",
       "      <th>1</th>\n",
       "      <td>no checking account</td>\n",
       "      <td>9</td>\n",
       "      <td>all credits at this bank paid back duly</td>\n",
       "      <td>others</td>\n",
       "      <td>2799</td>\n",
       "      <td>unknown/no savings account</td>\n",
       "      <td>1 &lt;= ... &lt; 4 yrs</td>\n",
       "      <td>25 &lt;= ... &lt; 35</td>\n",
       "      <td>male : married/widowed</td>\n",
       "      <td>none</td>\n",
       "      <td>...</td>\n",
       "      <td>unknown / no property</td>\n",
       "      <td>36</td>\n",
       "      <td>none</td>\n",
       "      <td>for free</td>\n",
       "      <td>2-3</td>\n",
       "      <td>skilled employee/official</td>\n",
       "      <td>3 or more</td>\n",
       "      <td>no</td>\n",
       "      <td>no</td>\n",
       "      <td>good</td>\n",
       "    </tr>\n",
       "    <tr>\n",
       "      <th>2</th>\n",
       "      <td>... &lt; 0 DM</td>\n",
       "      <td>12</td>\n",
       "      <td>no credits taken/all credits paid back duly</td>\n",
       "      <td>retraining</td>\n",
       "      <td>841</td>\n",
       "      <td>... &lt;  100 DM</td>\n",
       "      <td>4 &lt;= ... &lt; 7 yrs</td>\n",
       "      <td>25 &lt;= ... &lt; 35</td>\n",
       "      <td>female : non-single or male : single</td>\n",
       "      <td>none</td>\n",
       "      <td>...</td>\n",
       "      <td>unknown / no property</td>\n",
       "      <td>23</td>\n",
       "      <td>none</td>\n",
       "      <td>for free</td>\n",
       "      <td>1</td>\n",
       "      <td>unskilled - resident</td>\n",
       "      <td>0 to 2</td>\n",
       "      <td>no</td>\n",
       "      <td>no</td>\n",
       "      <td>good</td>\n",
       "    </tr>\n",
       "    <tr>\n",
       "      <th>3</th>\n",
       "      <td>no checking account</td>\n",
       "      <td>12</td>\n",
       "      <td>all credits at this bank paid back duly</td>\n",
       "      <td>others</td>\n",
       "      <td>2122</td>\n",
       "      <td>unknown/no savings account</td>\n",
       "      <td>1 &lt;= ... &lt; 4 yrs</td>\n",
       "      <td>20 &lt;= ... &lt; 25</td>\n",
       "      <td>male : married/widowed</td>\n",
       "      <td>none</td>\n",
       "      <td>...</td>\n",
       "      <td>unknown / no property</td>\n",
       "      <td>39</td>\n",
       "      <td>none</td>\n",
       "      <td>for free</td>\n",
       "      <td>2-3</td>\n",
       "      <td>unskilled - resident</td>\n",
       "      <td>3 or more</td>\n",
       "      <td>no</td>\n",
       "      <td>yes</td>\n",
       "      <td>good</td>\n",
       "    </tr>\n",
       "    <tr>\n",
       "      <th>4</th>\n",
       "      <td>no checking account</td>\n",
       "      <td>12</td>\n",
       "      <td>all credits at this bank paid back duly</td>\n",
       "      <td>others</td>\n",
       "      <td>2171</td>\n",
       "      <td>unknown/no savings account</td>\n",
       "      <td>1 &lt;= ... &lt; 4 yrs</td>\n",
       "      <td>&lt; 20</td>\n",
       "      <td>male : married/widowed</td>\n",
       "      <td>none</td>\n",
       "      <td>...</td>\n",
       "      <td>car or other</td>\n",
       "      <td>38</td>\n",
       "      <td>bank</td>\n",
       "      <td>rent</td>\n",
       "      <td>2-3</td>\n",
       "      <td>unskilled - resident</td>\n",
       "      <td>0 to 2</td>\n",
       "      <td>no</td>\n",
       "      <td>yes</td>\n",
       "      <td>good</td>\n",
       "    </tr>\n",
       "    <tr>\n",
       "      <th>...</th>\n",
       "      <td>...</td>\n",
       "      <td>...</td>\n",
       "      <td>...</td>\n",
       "      <td>...</td>\n",
       "      <td>...</td>\n",
       "      <td>...</td>\n",
       "      <td>...</td>\n",
       "      <td>...</td>\n",
       "      <td>...</td>\n",
       "      <td>...</td>\n",
       "      <td>...</td>\n",
       "      <td>...</td>\n",
       "      <td>...</td>\n",
       "      <td>...</td>\n",
       "      <td>...</td>\n",
       "      <td>...</td>\n",
       "      <td>...</td>\n",
       "      <td>...</td>\n",
       "      <td>...</td>\n",
       "      <td>...</td>\n",
       "      <td>...</td>\n",
       "    </tr>\n",
       "    <tr>\n",
       "      <th>995</th>\n",
       "      <td>no checking account</td>\n",
       "      <td>24</td>\n",
       "      <td>no credits taken/all credits paid back duly</td>\n",
       "      <td>furniture/equipment</td>\n",
       "      <td>1987</td>\n",
       "      <td>unknown/no savings account</td>\n",
       "      <td>1 &lt;= ... &lt; 4 yrs</td>\n",
       "      <td>25 &lt;= ... &lt; 35</td>\n",
       "      <td>male : married/widowed</td>\n",
       "      <td>none</td>\n",
       "      <td>...</td>\n",
       "      <td>unknown / no property</td>\n",
       "      <td>21</td>\n",
       "      <td>none</td>\n",
       "      <td>for free</td>\n",
       "      <td>1</td>\n",
       "      <td>unskilled - resident</td>\n",
       "      <td>3 or more</td>\n",
       "      <td>no</td>\n",
       "      <td>no</td>\n",
       "      <td>bad</td>\n",
       "    </tr>\n",
       "    <tr>\n",
       "      <th>996</th>\n",
       "      <td>no checking account</td>\n",
       "      <td>24</td>\n",
       "      <td>no credits taken/all credits paid back duly</td>\n",
       "      <td>others</td>\n",
       "      <td>2303</td>\n",
       "      <td>unknown/no savings account</td>\n",
       "      <td>&gt;= 7 yrs</td>\n",
       "      <td>&lt; 20</td>\n",
       "      <td>male : married/widowed</td>\n",
       "      <td>co-applicant</td>\n",
       "      <td>...</td>\n",
       "      <td>unknown / no property</td>\n",
       "      <td>45</td>\n",
       "      <td>none</td>\n",
       "      <td>rent</td>\n",
       "      <td>1</td>\n",
       "      <td>skilled employee/official</td>\n",
       "      <td>0 to 2</td>\n",
       "      <td>no</td>\n",
       "      <td>no</td>\n",
       "      <td>bad</td>\n",
       "    </tr>\n",
       "    <tr>\n",
       "      <th>997</th>\n",
       "      <td>... &gt;= 200 DM / salary for at least 1 year</td>\n",
       "      <td>21</td>\n",
       "      <td>all credits at this bank paid back duly</td>\n",
       "      <td>others</td>\n",
       "      <td>12680</td>\n",
       "      <td>... &gt;= 1000 DM</td>\n",
       "      <td>&gt;= 7 yrs</td>\n",
       "      <td>&lt; 20</td>\n",
       "      <td>male : married/widowed</td>\n",
       "      <td>none</td>\n",
       "      <td>...</td>\n",
       "      <td>real estate</td>\n",
       "      <td>30</td>\n",
       "      <td>none</td>\n",
       "      <td>own</td>\n",
       "      <td>1</td>\n",
       "      <td>manager/self-empl./highly qualif. employee</td>\n",
       "      <td>0 to 2</td>\n",
       "      <td>yes (under customer name)</td>\n",
       "      <td>no</td>\n",
       "      <td>bad</td>\n",
       "    </tr>\n",
       "    <tr>\n",
       "      <th>998</th>\n",
       "      <td>... &lt; 0 DM</td>\n",
       "      <td>12</td>\n",
       "      <td>no credits taken/all credits paid back duly</td>\n",
       "      <td>furniture/equipment</td>\n",
       "      <td>6468</td>\n",
       "      <td>... &gt;= 1000 DM</td>\n",
       "      <td>unemployed</td>\n",
       "      <td>25 &lt;= ... &lt; 35</td>\n",
       "      <td>male : married/widowed</td>\n",
       "      <td>none</td>\n",
       "      <td>...</td>\n",
       "      <td>real estate</td>\n",
       "      <td>52</td>\n",
       "      <td>none</td>\n",
       "      <td>rent</td>\n",
       "      <td>1</td>\n",
       "      <td>manager/self-empl./highly qualif. employee</td>\n",
       "      <td>0 to 2</td>\n",
       "      <td>yes (under customer name)</td>\n",
       "      <td>no</td>\n",
       "      <td>bad</td>\n",
       "    </tr>\n",
       "    <tr>\n",
       "      <th>999</th>\n",
       "      <td>no checking account</td>\n",
       "      <td>30</td>\n",
       "      <td>no credits taken/all credits paid back duly</td>\n",
       "      <td>car (used)</td>\n",
       "      <td>6350</td>\n",
       "      <td>... &gt;= 1000 DM</td>\n",
       "      <td>&gt;= 7 yrs</td>\n",
       "      <td>&lt; 20</td>\n",
       "      <td>male : married/widowed</td>\n",
       "      <td>none</td>\n",
       "      <td>...</td>\n",
       "      <td>car or other</td>\n",
       "      <td>31</td>\n",
       "      <td>none</td>\n",
       "      <td>rent</td>\n",
       "      <td>1</td>\n",
       "      <td>skilled employee/official</td>\n",
       "      <td>0 to 2</td>\n",
       "      <td>no</td>\n",
       "      <td>no</td>\n",
       "      <td>bad</td>\n",
       "    </tr>\n",
       "  </tbody>\n",
       "</table>\n",
       "<p>1000 rows × 21 columns</p>\n",
       "</div>"
      ],
      "text/plain": [
       "                                         status  duration  \\\n",
       "0                           no checking account        18   \n",
       "1                           no checking account         9   \n",
       "2                                    ... < 0 DM        12   \n",
       "3                           no checking account        12   \n",
       "4                           no checking account        12   \n",
       "..                                          ...       ...   \n",
       "995                         no checking account        24   \n",
       "996                         no checking account        24   \n",
       "997  ... >= 200 DM / salary for at least 1 year        21   \n",
       "998                                  ... < 0 DM        12   \n",
       "999                         no checking account        30   \n",
       "\n",
       "                                  credit_history              purpose  amount  \\\n",
       "0        all credits at this bank paid back duly           car (used)    1049   \n",
       "1        all credits at this bank paid back duly               others    2799   \n",
       "2    no credits taken/all credits paid back duly           retraining     841   \n",
       "3        all credits at this bank paid back duly               others    2122   \n",
       "4        all credits at this bank paid back duly               others    2171   \n",
       "..                                           ...                  ...     ...   \n",
       "995  no credits taken/all credits paid back duly  furniture/equipment    1987   \n",
       "996  no credits taken/all credits paid back duly               others    2303   \n",
       "997      all credits at this bank paid back duly               others   12680   \n",
       "998  no credits taken/all credits paid back duly  furniture/equipment    6468   \n",
       "999  no credits taken/all credits paid back duly           car (used)    6350   \n",
       "\n",
       "                        savings employment_duration installment_rate  \\\n",
       "0    unknown/no savings account              < 1 yr             < 20   \n",
       "1    unknown/no savings account    1 <= ... < 4 yrs   25 <= ... < 35   \n",
       "2                 ... <  100 DM    4 <= ... < 7 yrs   25 <= ... < 35   \n",
       "3    unknown/no savings account    1 <= ... < 4 yrs   20 <= ... < 25   \n",
       "4    unknown/no savings account    1 <= ... < 4 yrs             < 20   \n",
       "..                          ...                 ...              ...   \n",
       "995  unknown/no savings account    1 <= ... < 4 yrs   25 <= ... < 35   \n",
       "996  unknown/no savings account            >= 7 yrs             < 20   \n",
       "997              ... >= 1000 DM            >= 7 yrs             < 20   \n",
       "998              ... >= 1000 DM          unemployed   25 <= ... < 35   \n",
       "999              ... >= 1000 DM            >= 7 yrs             < 20   \n",
       "\n",
       "                      personal_status_sex other_debtors  ...  \\\n",
       "0    female : non-single or male : single          none  ...   \n",
       "1                  male : married/widowed          none  ...   \n",
       "2    female : non-single or male : single          none  ...   \n",
       "3                  male : married/widowed          none  ...   \n",
       "4                  male : married/widowed          none  ...   \n",
       "..                                    ...           ...  ...   \n",
       "995                male : married/widowed          none  ...   \n",
       "996                male : married/widowed  co-applicant  ...   \n",
       "997                male : married/widowed          none  ...   \n",
       "998                male : married/widowed          none  ...   \n",
       "999                male : married/widowed          none  ...   \n",
       "\n",
       "                  property age  other_installment_plans   housing  \\\n",
       "0             car or other  21                     none  for free   \n",
       "1    unknown / no property  36                     none  for free   \n",
       "2    unknown / no property  23                     none  for free   \n",
       "3    unknown / no property  39                     none  for free   \n",
       "4             car or other  38                     bank      rent   \n",
       "..                     ...  ..                      ...       ...   \n",
       "995  unknown / no property  21                     none  for free   \n",
       "996  unknown / no property  45                     none      rent   \n",
       "997            real estate  30                     none       own   \n",
       "998            real estate  52                     none      rent   \n",
       "999           car or other  31                     none      rent   \n",
       "\n",
       "    number_credits                                         job people_liable  \\\n",
       "0                1                   skilled employee/official        0 to 2   \n",
       "1              2-3                   skilled employee/official     3 or more   \n",
       "2                1                        unskilled - resident        0 to 2   \n",
       "3              2-3                        unskilled - resident     3 or more   \n",
       "4              2-3                        unskilled - resident        0 to 2   \n",
       "..             ...                                         ...           ...   \n",
       "995              1                        unskilled - resident     3 or more   \n",
       "996              1                   skilled employee/official        0 to 2   \n",
       "997              1  manager/self-empl./highly qualif. employee        0 to 2   \n",
       "998              1  manager/self-empl./highly qualif. employee        0 to 2   \n",
       "999              1                   skilled employee/official        0 to 2   \n",
       "\n",
       "                     telephone foreign_worker credit_risk  \n",
       "0                           no             no        good  \n",
       "1                           no             no        good  \n",
       "2                           no             no        good  \n",
       "3                           no            yes        good  \n",
       "4                           no            yes        good  \n",
       "..                         ...            ...         ...  \n",
       "995                         no             no         bad  \n",
       "996                         no             no         bad  \n",
       "997  yes (under customer name)             no         bad  \n",
       "998  yes (under customer name)             no         bad  \n",
       "999                         no             no         bad  \n",
       "\n",
       "[1000 rows x 21 columns]"
      ]
     },
     "execution_count": 2,
     "metadata": {},
     "output_type": "execute_result"
    }
   ],
   "source": [
    "data = pd.read_csv('https://raw.githubusercontent.com/hse-ds/iad-intro-ds/master/2022/homeworks/hw03-EDA/german_credit.csv')\n",
    "data"
   ]
  },
  {
   "cell_type": "markdown",
   "metadata": {
    "id": "JBbxRdOQu8le"
   },
   "source": [
    "### Задание 2 (0.5 балла)"
   ]
  },
  {
   "cell_type": "markdown",
   "metadata": {
    "id": "hIPt1r6ju8le"
   },
   "source": [
    "Определите, есть ли пропуски в данных. Разделите признаки на количественные, бинарные, порядковые и категориальные."
   ]
  },
  {
   "cell_type": "code",
   "execution_count": 3,
   "metadata": {
    "id": "jD04ZLhdM6DT"
   },
   "outputs": [
    {
     "data": {
      "text/plain": [
       "status                     0\n",
       "duration                   0\n",
       "credit_history             0\n",
       "purpose                    0\n",
       "amount                     0\n",
       "savings                    0\n",
       "employment_duration        0\n",
       "installment_rate           0\n",
       "personal_status_sex        0\n",
       "other_debtors              0\n",
       "present_residence          0\n",
       "property                   0\n",
       "age                        0\n",
       "other_installment_plans    0\n",
       "housing                    0\n",
       "number_credits             0\n",
       "job                        0\n",
       "people_liable              0\n",
       "telephone                  0\n",
       "foreign_worker             0\n",
       "credit_risk                0\n",
       "dtype: int64"
      ]
     },
     "execution_count": 3,
     "metadata": {},
     "output_type": "execute_result"
    }
   ],
   "source": [
    "data.isna().sum()\n",
    "# пропусков нет"
   ]
  },
  {
   "cell_type": "code",
   "execution_count": 4,
   "metadata": {},
   "outputs": [
    {
     "name": "stdout",
     "output_type": "stream",
     "text": [
      "status\n",
      "['no checking account' '... < 0 DM'\n",
      " '... >= 200 DM / salary for at least 1 year' '0<= ... < 200 DM']\n",
      "duration\n",
      "[18  9 12 10  8  6 24 11 30 48 36 15 42 21 27 33 28  4 47 14 39 60  5 22\n",
      " 54 13 16  7 20 26 45 72 40]\n",
      "credit_history\n",
      "['all credits at this bank paid back duly'\n",
      " 'no credits taken/all credits paid back duly'\n",
      " 'existing credits paid back duly till now'\n",
      " 'delay in paying off in the past'\n",
      " 'critical account/other credits elsewhere']\n",
      "purpose\n",
      "['car (used)' 'others' 'retraining' 'furniture/equipment' 'car (new)'\n",
      " 'business' 'domestic appliances' 'radio/television' 'repairs' 'vacation']\n",
      "amount\n",
      "[ 1049  2799   841  2122  2171  2241  3398  1361  1098  3758  3905  6187\n",
      "  1957  7582  1936  2647  3939  3213  2337  7228  3676  3124  2384  1424\n",
      "  4716  4771   652  1154  3556  4796  3017  3535  6614  1376  1721   860\n",
      "  1495  1934  3378  3868   996  1755  1028  2825  1239  1216  1258  1864\n",
      "  1474  1382   640  3919  1224  2331  6313   385  1655  1053  3160  3079\n",
      "  1163  2679  3578 10875  1344  1237  3077  2284  1567  2032  2745  1867\n",
      "  2299   929  3399  2030  3275  1940  1602  1979  2022  3342  5866  2360\n",
      "  1520  3651  2346  4454   666  1965  1995  2991  4221  1364  6361  4526\n",
      "  3573  4455  2136  5954  3777   806  4712  7432  1851  1393  1412  1473\n",
      "  1533  2012  3959   428  2366   763  3976  6260  1919  2603   936  3062\n",
      "  4795  5842  2063  1459  1213  5103   874  2978  1820  2872  1925  2515\n",
      "  2116  1453  1543  1318  2325   932  3148  3835  3832  5084  2406  2394\n",
      "  2476  2964  1262  1542  1743   409  8858  3512  1158  2684  1498  6416\n",
      "  3617  1291  1275  3972  3343   392  2134  5771  2788  5848  1228  1297\n",
      "  1552  1963  3235  4139  1804  1950 12749  1236  1055  8072  2831  1449\n",
      "  5742  2390  3430  2273  2923  1901  3711  8487  2255  7253  6761  1817\n",
      "  2141  3609  2333  7824  1445  7721  3763  4439  1107  1444 12169  2753\n",
      "  1494  2828  2483  1299  1549  3949  2901   709 10722  1287  3656  4679\n",
      "  8613  2659  1516  4380   802  1572  3566  1278   426  8588  3857   685\n",
      "  1603   601  2569  1316 10366  1568   629  1750  3488  1800  4151  2631\n",
      "  5248  2899  6204   804  3595  5711  2687  3643  2146  2315  3448  2708\n",
      "  1313  1493  2675  2118   909  1569  7678   660  2835  2670  3447  3568\n",
      "  3652  3660  1126   683  2251  4675  2353  3357   672   338  2697  2507\n",
      "  1478  3565  2221  1898   960  8133  2301   983  2320   339  5152  3749\n",
      "  3074   745  1469  1374   783  2606  9436   930  2751   250  1201   662\n",
      "  1300  1559  3016  1360  1204  1597  2073  2142  2132  1546  1418  1343\n",
      "  2662  6070  1927  2404  1554  1283   717  1747  1288  1038  2848  1413\n",
      "  3632  3229  3577   682  1924   727   781  2121   701  2069  1525  7629\n",
      "  3499  1346 10477  2924  1231  1961  5045  1255  1858  1221  1388  2279\n",
      "  2759  1410  1403  3021  6568  2578  7758   343  1591  3416  1108  5965\n",
      "  1514  6742  3650  3599 13756   276  4041   458   918  7393  1225  2812\n",
      "  3029  1480  1047  1471  5511  1206  6403   707  1503  6078  2528  1037\n",
      "  1352  3181  4594  5381  4657  1391  1913  7166  1409   976  2375   522\n",
      "  2743  5804  1169   776  1322  1175  2133  1829 11760  1501  1200  3195\n",
      "  4530  1555  2326  1887  1264   846  1532   935  2442  3590  2288  5117\n",
      " 14179  1386   618  1574   700   886  4686   790   766  2212  7308  5743\n",
      "  3973  7418  2629  1941  2445  6468  7374  3812  4006  7472  2028  5324\n",
      "  2323  1984   999  7409  2186  4473   937  3422  3105  2748  3872  5190\n",
      "  3001  3863  5801  1592  1185  3780  3612  1076  3527  2051  3331  3104\n",
      "  2611  1311  2108  4042   926  1680  1249  2463  1595  2058  7814  1740\n",
      "  1240  6842  5150  1203  2080  1538  3878  3186  2896  6967  1819  5943\n",
      "  7127  3349 10974   518  1860  9566  2930  1505  2238  2197  1881  1880\n",
      "  2389  1967  3380  1455   730  3244  1670  3979  1922  1295  1544   907\n",
      "  1715  1347  1007  1402  2002  2096  1101   894  1577  2764  8358  5433\n",
      "  3485  3850  7408  1377  4272  1553  9857   362  1935 10222  1330  9055\n",
      "  7966  3496  6948 12204  3446   684  4281  7174  2359  3621   741  7865\n",
      "  2910  5302  3620  3509  1657  1164  6229  1193  4583  5371   708   571\n",
      "  2522  5179  8229  1289  2712   975  1050   609  4788  3069   836  2577\n",
      "  1620  1845  6579  1893 10623  2249  3108   958  9277  6314  1526  6615\n",
      "  1872  2859  1582  1238  1433  7882  4169  3249  3149  2246  1797  2957\n",
      "  2348  6289  6419  6143 15857  2223  7238  2503  2622  4351   368   754\n",
      "  2424  6681  2427   753  2576   590  1414  1103   585  1068   713  1092\n",
      "  2329   882   866  2415  2101  1301  1113   760   625  1323  1138  1795\n",
      "  2728   484  1048  1155  7057  1537  2214  1585  1521  3990  3049  1282\n",
      " 10144  1168   454  3594  1768 15653  2247  4576  8335  5800  8471  3622\n",
      "  2181  7685  6110  3757  3394  6304  1244  3518  2613  7476  4591  5595\n",
      "  6224  1905  2993  8947  4020  2779  2782  1884 11054  9157  9283  6527\n",
      "  3368  2511  5493  1338  1082  1149  1308  6148  1736  3059  2996  7596\n",
      "  4811  1766  2760  5507  1199  2892  2862   654  1136  4113 14555   950\n",
      "  2150  2820  3060  2600  5003  6288  2538  4933  1530  1437  1823  1422\n",
      "  1217  9271  2145  1842  4297  3384  1245  4623  8386  1024 14318   433\n",
      "  2149  2397   931  1512  4241  4736  1778  2327  6872   795  1908  1953\n",
      "  2864  2319   915   947  1381  1285  1371  1042   900  1207  2278  6836\n",
      "  3345  1198 15672  7297  1943  3190  5129  1808   759  1980 10961  6887\n",
      "  1938  1835  1659  1209  3844  4843   639  5951  3804  4463  7980  4210\n",
      "  4611 11560  4165  4057  6458  1977  1928  1123 11328 11938  2520 14782\n",
      "  2671 12612  3031   626  3931  2302  3965  3914  4308  1534  2775  5998\n",
      "  1271  9398   951  1355  3051  7855  9572  1837  4249  5234  6758  1366\n",
      "  1358  2473  1337  7763  6560  3123  8065  2439  9034 14027  9629  1484\n",
      "  1131  2064 12976  2580  2570  3915  1309  4817  2579  2225  4153  3114\n",
      "  2124  1333  7119  4870   691  4370  2746  4110  2462  2969  4605  6331\n",
      "  3552   697  1442  5293  3414  2039  3161   902 10297 14421  1056  1274\n",
      "  1223  1372  2625  2235   959   884  1246  8086 10127   888   719 12389\n",
      "  6850  2210  7485   797  4746   939  1188 11590  1190  2767  3441  4280\n",
      "  3092  1331 15945  3234  9960  8648  1345  1647  4844  8318  2100 11816\n",
      "   448 11998 18424 14896  2762  3386  2169  5096  1882  6999  2292  8978\n",
      "   674  2718   750 12579  7511  3966  6199  1987  2303 12680  6350]\n",
      "savings\n",
      "['unknown/no savings account' '... <  100 DM' '100 <= ... <  500 DM'\n",
      " '... >= 1000 DM' '500 <= ... < 1000 DM']\n",
      "employment_duration\n",
      "['< 1 yr' '1 <= ... < 4 yrs' '4 <= ... < 7 yrs' 'unemployed' '>= 7 yrs']\n",
      "installment_rate\n",
      "['< 20' '25 <= ... < 35' '20 <= ... < 25' '>= 35']\n",
      "personal_status_sex\n",
      "['female : non-single or male : single' 'male : married/widowed'\n",
      " 'female : single' 'male : divorced/separated']\n",
      "other_debtors\n",
      "['none' 'guarantor' 'co-applicant']\n",
      "present_residence\n",
      "['>= 7 yrs' '1 <= ... < 4 yrs' '4 <= ... < 7 yrs' '< 1 yr']\n",
      "property\n",
      "['car or other' 'unknown / no property'\n",
      " 'building soc. savings agr./life insurance' 'real estate']\n",
      "age\n",
      "[21 36 23 39 38 48 40 65 24 31 44 25 37 49 33 26 51 29 56 47 34 28 41 58\n",
      " 61 30 63 27 45 43 52 22 60 32 35 42 59 54 64 46 74 50 20 55 53 19 57 66\n",
      " 68 70 67 75 62]\n",
      "other_installment_plans\n",
      "['none' 'bank' 'stores']\n",
      "housing\n",
      "['for free' 'rent' 'own']\n",
      "number_credits\n",
      "['1' '2-3' '4-5' '>= 6']\n",
      "job\n",
      "['skilled employee/official' 'unskilled - resident'\n",
      " 'unemployed/unskilled - non-resident'\n",
      " 'manager/self-empl./highly qualif. employee']\n",
      "people_liable\n",
      "['0 to 2' '3 or more']\n",
      "telephone\n",
      "['no' 'yes (under customer name)']\n",
      "foreign_worker\n",
      "['no' 'yes']\n",
      "credit_risk\n",
      "['good' 'bad']\n"
     ]
    }
   ],
   "source": [
    "# смотрим на уникальные значения каждого признака, чтобы определить тип признака\n",
    "for elem in data:\n",
    "    print(elem)\n",
    "    print(data[elem].unique())"
   ]
  },
  {
   "cell_type": "markdown",
   "metadata": {},
   "source": [
    "status - порядковый   \n",
    "duration - количественный   \n",
    "credit_history - категориальный   \n",
    "purpose - категориальный   \n",
    "amount - количественный   \n",
    "savings - порядковый   \n",
    "employment_duration - порядковый   \n",
    "installment_rate - порядковый   \n",
    "personal_status_sex - категориальный   \n",
    "other_debtors - категориальный   \n",
    "present_residence - порядковый   \n",
    "property - категориальный   \n",
    "age - количественный   \n",
    "other_installment_plans - категориальный   \n",
    "housing - категориальный   \n",
    "number_credits - порядковый   \n",
    "job - категориальный   \n",
    "people_liable - бинарный   \n",
    "telephone - бинарный   \n",
    "foreign_worker - бинарный   \n",
    "credit_risk - бинарный"
   ]
  },
  {
   "cell_type": "code",
   "execution_count": 5,
   "metadata": {},
   "outputs": [],
   "source": [
    "d = {'status': 'ordinal', 'duration': 'numerical', 'credit_history': 'categorical', 'purpose': 'categorical', \n",
    "     'amount': 'numerical', 'savings': 'ordinal', 'employment_duration': 'ordinal', 'installment_rate': 'ordinal', \n",
    "     'personal_status_sex': 'categorical', 'other_debtors': 'categorical', 'present_residence':'ordinal',\n",
    "     'property': 'categorical', 'age': 'numerical', 'other_installment_plans': 'categorical', 'housing': 'categorical', \n",
    "     'number_credits': 'ordinal', 'job': 'categorical', 'people_liable': 'binar', 'telephone': 'binar', \n",
    "     'foreign_worker': 'binar', 'credit_risk': 'binar'}"
   ]
  },
  {
   "cell_type": "markdown",
   "metadata": {
    "id": "SqPrAHdKRTIE"
   },
   "source": [
    "### Задание 3 (0.5 балла)"
   ]
  },
  {
   "cell_type": "markdown",
   "metadata": {
    "id": "KlMiEcHBRXhD"
   },
   "source": [
    "Выведите среднюю сумму кредита (колонка amount) в каждой категории (колонка purpose), воспользовавшись методом groupby."
   ]
  },
  {
   "cell_type": "code",
   "execution_count": 6,
   "metadata": {
    "id": "oXE_DvksRbpn"
   },
   "outputs": [
    {
     "data": {
      "text/plain": [
       "purpose\n",
       "business               8209.333333\n",
       "car (new)              5370.223301\n",
       "car (used)             3066.983425\n",
       "domestic appliances    2728.090909\n",
       "furniture/equipment    2487.685714\n",
       "others                 3062.948718\n",
       "radio/television       1498.000000\n",
       "repairs                3180.400000\n",
       "retraining             4158.041237\n",
       "vacation               1205.888889\n",
       "Name: amount, dtype: float64"
      ]
     },
     "execution_count": 6,
     "metadata": {},
     "output_type": "execute_result"
    }
   ],
   "source": [
    "data.groupby('purpose')['amount'].mean()"
   ]
  },
  {
   "cell_type": "markdown",
   "metadata": {
    "id": "mG3ALQRdu8le"
   },
   "source": [
    "### Задание 4 (0.5 балла)\n"
   ]
  },
  {
   "cell_type": "markdown",
   "metadata": {
    "id": "dlb3bBzTu8lf"
   },
   "source": [
    "Какой процент клиентов моложе 30 лет (колонка age) снимает жилье (колонка housing)? А какой процент клиентов старше 40 лет снимает жилье?"
   ]
  },
  {
   "cell_type": "code",
   "execution_count": 247,
   "metadata": {
    "id": "MbGsJVWQu8lf"
   },
   "outputs": [
    {
     "data": {
      "text/plain": [
       "66.66666666666666"
      ]
     },
     "execution_count": 247,
     "metadata": {},
     "output_type": "execute_result"
    }
   ],
   "source": [
    "len(data[(data['age'] < 30) & (data['housing'] == 'rent')])/len(data[(data['age'] < 30)]) * 100"
   ]
  },
  {
   "cell_type": "code",
   "execution_count": 248,
   "metadata": {},
   "outputs": [
    {
     "data": {
      "text/plain": [
       "68.01470588235294"
      ]
     },
     "execution_count": 248,
     "metadata": {},
     "output_type": "execute_result"
    }
   ],
   "source": [
    "len(data[(data['age'] > 40) & (data['housing'] == 'rent')])/len(data[(data['age'] > 40)]) * 100"
   ]
  },
  {
   "cell_type": "markdown",
   "metadata": {
    "id": "-JG_63_nu8lf"
   },
   "source": [
    "### Задание 5 (0.5 балла)"
   ]
  },
  {
   "cell_type": "markdown",
   "metadata": {
    "id": "aEC7Jj5eu8lf"
   },
   "source": [
    " У скольких иностранцев (foreign_worker) число кредитов (number_credits) больше 3?"
   ]
  },
  {
   "cell_type": "code",
   "execution_count": 58,
   "metadata": {
    "id": "ScD09Oa4u8lf"
   },
   "outputs": [
    {
     "data": {
      "text/plain": [
       "1"
      ]
     },
     "execution_count": 58,
     "metadata": {},
     "output_type": "execute_result"
    }
   ],
   "source": [
    "len(data[(data['foreign_worker'] == 'yes') & (data['number_credits'].apply(lambda x: x in ['4-5', '>=6']))])"
   ]
  },
  {
   "cell_type": "markdown",
   "metadata": {
    "id": "KAe_K_upu8lg"
   },
   "source": [
    "### Задание 6 (1 балл)"
   ]
  },
  {
   "cell_type": "code",
   "execution_count": 10,
   "metadata": {
    "id": "Q1pVde3gjPNB"
   },
   "outputs": [],
   "source": [
    "import numpy as np\n",
    "import matplotlib.pyplot as plt\n",
    "from math import pi\n",
    "%matplotlib inline"
   ]
  },
  {
   "cell_type": "markdown",
   "metadata": {
    "id": "aW45ioAJjWMo"
   },
   "source": [
    "Используя numpy и matplotlib, начнём с тренировки: постройте график функций $sin(x)$ и $cos(x)$ от $-\\pi$ до $\\pi$ из 100 точек c легендой и сеткой. Используйте для линий разные цвета, одна из них пусть будет пунктирной. Результат в этом и следующих заданиях на построение графиков должен получиться примерно как на картинке. Содержание подписей не должно обязательно совпадать, однако осмысленные подписи должны присутствовать на графиках."
   ]
  },
  {
   "cell_type": "code",
   "execution_count": 11,
   "metadata": {
    "colab": {
     "base_uri": "https://localhost:8080/",
     "height": 265
    },
    "id": "8rMlt0nbu8lg",
    "outputId": "02bfcae5-2a4f-4b8b-eb41-51ac7ad41379"
   },
   "outputs": [
    {
     "data": {
      "image/png": "[encoded data removed]",
      "text/plain": [
       "<Figure size 432x288 with 1 Axes>"
      ]
     },
     "metadata": {
      "needs_background": "light"
     },
     "output_type": "display_data"
    }
   ],
   "source": [
    "x = np.linspace(-pi, pi, 100)\n",
    "y_sin = np.sin(x)\n",
    "y_cos = np.cos(x)\n",
    "\n",
    "plt.grid(True)\n",
    "\n",
    "plt.plot(x, y_sin, color='slateblue', label='sinx');\n",
    "plt.plot(x, y_cos, color='maroon', linestyle = '--', label='cosx');\n",
    "plt.legend();"
   ]
  },
  {
   "cell_type": "markdown",
   "metadata": {
    "id": "toFoOig2u8lh"
   },
   "source": [
    "### Задание 7 (1 балл)"
   ]
  },
  {
   "cell_type": "markdown",
   "metadata": {
    "id": "9I3yl5dEu8lh"
   },
   "source": [
    "Рассмотрим сравнительное количество положительных и отрицательных кейсов в зависимости от размера текущего счёта. Постройте зеркальные горизонтальные гистограммы."
   ]
  },
  {
   "cell_type": "code",
   "execution_count": 65,
   "metadata": {},
   "outputs": [
    {
     "data": {
      "image/png": "[encoded data removed]",
      "text/plain": [
       "<Figure size 1440x576 with 2 Axes>"
      ]
     },
     "metadata": {
      "needs_background": "light"
     },
     "output_type": "display_data"
    }
   ],
   "source": [
    "d1 = data.loc[data['credit_risk'] == 'good']\n",
    "d2 = data.loc[data['credit_risk'] == 'bad']\n",
    "\n",
    "\n",
    "fig, axis = plt.subplots(1, 2, figsize=(20,8))\n",
    "fig.suptitle('Status of checking account', size=22)\n",
    "\n",
    "d1['status'].value_counts().sort_index().plot(ax=axis[0], kind='barh',width=0.8, color='forestgreen')\n",
    "axis[0].set_title('Good risk', size=18)\n",
    "axis[0].set_xlim([360, 0]) \n",
    "axis[0].set_xlabel('Number of cases', size=15)\n",
    "\n",
    "d2['status'].value_counts().sort_index().plot(ax=axis[1], kind='barh', width=0.8, color='firebrick', title='Bad risk')\n",
    "axis[1].set_title('Bad risk', size=18)\n",
    "axis[1].set_xlim([0, 360])\n",
    "axis[1].yaxis.tick_right()\n",
    "axis[1].set_xlabel('Number of cases', size=15)\n",
    "\n",
    "plt.show()\n",
    "# видно, что в среднем больше good cases, причем >=200 DM значительно увеличивает вероятность выплаты кредита"
   ]
  },
  {
   "cell_type": "markdown",
   "metadata": {
    "id": "bfJALnuMu8li"
   },
   "source": [
    "### Задание 8  (0.5 балла)"
   ]
  },
  {
   "cell_type": "code",
   "execution_count": 13,
   "metadata": {
    "id": "Yi_RIvTx00EE"
   },
   "outputs": [],
   "source": [
    "import seaborn as sns"
   ]
  },
  {
   "cell_type": "markdown",
   "metadata": {
    "id": "mFbzcUiwu8li"
   },
   "source": [
    "Теперь постройте гистограмму для сравнения количества положительных и отрицательных кейсов в зависимости от размера сберегательного счёта с помощью seaborn. Какой способ вам больше нравится с точки зрения трудоёмкости написания кода? А с точки зрения восприятия результата?"
   ]
  },
  {
   "cell_type": "code",
   "execution_count": 211,
   "metadata": {},
   "outputs": [
    {
     "data": {
      "image/png": "[encoded data removed]",
      "text/plain": [
       "<Figure size 780.75x360 with 1 Axes>"
      ]
     },
     "metadata": {
      "needs_background": "light"
     },
     "output_type": "display_data"
    }
   ],
   "source": [
    "palette = ['forestgreen', 'firebrick']\n",
    "sns.catplot(x='savings', hue='credit_risk', kind='count', aspect=2, palette=palette, data=data)\n",
    "plt.title('Comparative number of positive and negative cases depending on the status of the checking account')\n",
    "plt.xlabel('savings')\n",
    "plt.ylabel('number of cases')\n",
    "plt.show()\n",
    "# больше всего отрицательных кейсов было среди клиентов без сберегательного счета, меньше всего - с \n",
    "# балансом от 100 до 1000 DM\n",
    "# среди людей, имеющих сберегательные счета больше всего положительный кейсов было среди обладателей счета от 1000 DM"
   ]
  },
  {
   "cell_type": "markdown",
   "metadata": {
    "id": "86JCla6mu8li"
   },
   "source": [
    "### Задание 9  (1 балл)"
   ]
  },
  {
   "cell_type": "markdown",
   "metadata": {
    "id": "KDWT_Zx4u8lj"
   },
   "source": [
    "seaborn легко позволяет добавить ещё больше информации на один график. Для каждого размера сберегательного счёта мы можем оценить не только количество положительных и отрицательных кейсов, но и их распределение по возрасту, например. Постройте подходящую для этого визуализацию."
   ]
  },
  {
   "cell_type": "code",
   "execution_count": 171,
   "metadata": {},
   "outputs": [
    {
     "data": {
      "image/png": "[encoded data removed]",
      "text/plain": [
       "<Figure size 780.75x360 with 1 Axes>"
      ]
     },
     "metadata": {
      "needs_background": "light"
     },
     "output_type": "display_data"
    }
   ],
   "source": [
    "sns.catplot(x='savings', y=\"age\", hue='credit_risk', kind=\"violin\", aspect=2, \n",
    "            palette=palette, split=True, data=data)\n",
    "plt.xlabel('savings')\n",
    "plt.show()\n",
    "# видим отсутствие пика в распределении по возрасту среди обладателей счето от 500 до 1000 DM c плохим кредитным риском"
   ]
  },
  {
   "cell_type": "markdown",
   "metadata": {
    "id": "Q6ZBM9nqu8lj"
   },
   "source": [
    "### Задание 10  (0.5 балла)"
   ]
  },
  {
   "cell_type": "markdown",
   "metadata": {
    "id": "9w1ch-1cu8lj"
   },
   "source": [
    "Заканчивая с гистограммами, посмотрим на распределение положительных и отрицательных кейсов по возрастам, разместив их друг над другом. Добавим распределение всех взятых кредитов."
   ]
  },
  {
   "cell_type": "code",
   "execution_count": 159,
   "metadata": {},
   "outputs": [
    {
     "data": {
      "image/png": "[encoded data removed]",
      "text/plain": [
       "<Figure size 504x792 with 3 Axes>"
      ]
     },
     "metadata": {
      "needs_background": "light"
     },
     "output_type": "display_data"
    }
   ],
   "source": [
    "fig, axis = plt.subplots(3, 1, figsize=(7, 11))\n",
    "fig.suptitle('Distribution of positive and negative cases by age')\n",
    "axis[0].hist(x='age', bins=17, label='Good credits age distribution', color='forestgreen', data=d1)\n",
    "axis[0].set_ylabel('Count')\n",
    "axis[0].set_ylim((0, 160))\n",
    "axis[1].hist(x='age', bins=17, label='Bad credits age distribution', color='firebrick', data=d2)\n",
    "axis[1].set_ylabel('Count')\n",
    "axis[1].set_ylim((0, 160))\n",
    "axis[2].hist(x='age', bins=17, label='Overall age distribution', color='royalblue', data=data)\n",
    "axis[2].set_ylabel('Count')\n",
    "axis[2].set_xlabel('Age')\n",
    "axis[2].set_ylim((0, 160))\n",
    "\n",
    "fig.legend(loc = (0.555, 0.81));\n",
    "# видно, что в целом отрицательных кейсов меньше, распределение по возрасту похоже вне зависимости от кредитного риска"
   ]
  },
  {
   "cell_type": "markdown",
   "metadata": {
    "id": "PVrJUff5u8lj"
   },
   "source": [
    "### Задание 11  (0.5 балла)"
   ]
  },
  {
   "cell_type": "markdown",
   "metadata": {
    "id": "Vh20VqxOu8lk"
   },
   "source": [
    "Не менее полезной иногда может быть диаграмма рассеяния. Постройте такую диаграмму с продолжительностью и размерами кредитов в качестве осей. Обозначьте положительные и отрицательные кейсы разными цветами."
   ]
  },
  {
   "cell_type": "code",
   "execution_count": 231,
   "metadata": {},
   "outputs": [
    {
     "data": {
      "image/png": "[encoded data removed]",
      "text/plain": [
       "<Figure size 1080x576 with 1 Axes>"
      ]
     },
     "metadata": {
      "needs_background": "light"
     },
     "output_type": "display_data"
    }
   ],
   "source": [
    "plt.figure(figsize=[15,8])\n",
    "plt.title('Distribution of positive and negative cases depending on the credit amount and duration')\n",
    "plt.xlabel(\"Credit amount\")\n",
    "plt.ylabel(\"Duration\")\n",
    "plt.scatter(x=data[(data['credit_risk'] == 'good')]['amount'], y=data[(data['credit_risk'] == 'good')]['duration'], \n",
    "            c='forestgreen', label='good')\n",
    "plt.scatter(x=data[(data['credit_risk'] == 'bad')]['amount'], y=data[(data['credit_risk'] == 'bad')]['duration'], \n",
    "            c='firebrick', label='bad')\n",
    "plt.legend()\n",
    "plt.show();\n",
    "# кредиты с меньшей суммой и длительностью выплачиваются лучше"
   ]
  },
  {
   "cell_type": "markdown",
   "metadata": {
    "id": "mePIgqPqu8lk"
   },
   "source": [
    "### Задание 12  (1 балл)"
   ]
  },
  {
   "cell_type": "markdown",
   "metadata": {
    "id": "HWD2qUbLu8lk"
   },
   "source": [
    "Продвинемся глубже. Постройте 3D версию диаграммы рассеяния, добавив ось с возрастом."
   ]
  },
  {
   "cell_type": "code",
   "execution_count": 245,
   "metadata": {
    "colab": {
     "base_uri": "https://localhost:8080/",
     "height": 466
    },
    "id": "SU2bmkPIu8lk",
    "outputId": "bccaab35-5fc2-4249-8ae2-309e53dcbd26"
   },
   "outputs": [
    {
     "data": {
      "image/png": "[encoded data removed]",
      "text/plain": [
       "<Figure size 648x576 with 1 Axes>"
      ]
     },
     "metadata": {
      "needs_background": "light"
     },
     "output_type": "display_data"
    }
   ],
   "source": [
    "from mpl_toolkits.mplot3d import Axes3D\n",
    "\n",
    "fig = plt.figure(figsize=[9,8])\n",
    "ax = fig.add_subplot(111, projection = '3d')\n",
    "ax.set_title('Distribution of positive and negative cases depending on the credit amount, duration and age')\n",
    "ax.set_xlabel(\"Credit amount\") \n",
    "ax.set_ylabel(\"Duration\") \n",
    "ax.set_zlabel(\"Age\") \n",
    "ax.scatter(data[(data['credit_risk'] == 'good')]['amount'], data[(data['credit_risk'] == 'good')]['duration'], \n",
    "           data[(data['credit_risk'] == 'good')]['age'], c='forestgreen', label='good')\n",
    "ax.scatter(data[(data['credit_risk'] == 'bad')]['amount'], data[(data['credit_risk'] == 'bad')]['duration'], \n",
    "           data[(data['credit_risk'] == 'bad')]['age'], c='firebrick', label='bad')\n",
    "ax.legend(loc=(0.9, 0.83));"
   ]
  },
  {
   "cell_type": "markdown",
   "metadata": {
    "id": "8Zxx_kxSYa_l"
   },
   "source": [
    "### Задание 13  (0.5 балла)"
   ]
  },
  {
   "cell_type": "markdown",
   "metadata": {
    "id": "5YBhNGg6Yjuw"
   },
   "source": [
    "Представьте все порядковые и бинарные признаки в виде числовых значений {0, ..., n - 1}, где n это количество значений признака. Избавьтесь от категориальных признаков."
   ]
  },
  {
   "cell_type": "code",
   "execution_count": 20,
   "metadata": {
    "id": "81_7p_bEYjuw"
   },
   "outputs": [],
   "source": [
    "# one-hot для категориальных\n",
    "data_encoded = pd.get_dummies(data, columns=[elem for elem in d if d[elem] == 'categorical'], drop_first=True)"
   ]
  },
  {
   "cell_type": "code",
   "execution_count": 21,
   "metadata": {},
   "outputs": [
    {
     "data": {
      "text/html": [
       "<div>\n",
       "<style scoped>\n",
       "    .dataframe tbody tr th:only-of-type {\n",
       "        vertical-align: middle;\n",
       "    }\n",
       "\n",
       "    .dataframe tbody tr th {\n",
       "        vertical-align: top;\n",
       "    }\n",
       "\n",
       "    .dataframe thead th {\n",
       "        text-align: right;\n",
       "    }\n",
       "</style>\n",
       "<table border=\"1\" class=\"dataframe\">\n",
       "  <thead>\n",
       "    <tr style=\"text-align: right;\">\n",
       "      <th></th>\n",
       "      <th>status</th>\n",
       "      <th>duration</th>\n",
       "      <th>amount</th>\n",
       "      <th>savings</th>\n",
       "      <th>employment_duration</th>\n",
       "      <th>installment_rate</th>\n",
       "      <th>present_residence</th>\n",
       "      <th>age</th>\n",
       "      <th>number_credits</th>\n",
       "      <th>people_liable</th>\n",
       "      <th>...</th>\n",
       "      <th>property_car or other</th>\n",
       "      <th>property_real estate</th>\n",
       "      <th>property_unknown / no property</th>\n",
       "      <th>other_installment_plans_none</th>\n",
       "      <th>other_installment_plans_stores</th>\n",
       "      <th>housing_own</th>\n",
       "      <th>housing_rent</th>\n",
       "      <th>job_skilled employee/official</th>\n",
       "      <th>job_unemployed/unskilled - non-resident</th>\n",
       "      <th>job_unskilled - resident</th>\n",
       "    </tr>\n",
       "  </thead>\n",
       "  <tbody>\n",
       "    <tr>\n",
       "      <th>0</th>\n",
       "      <td>no checking account</td>\n",
       "      <td>18</td>\n",
       "      <td>1049</td>\n",
       "      <td>unknown/no savings account</td>\n",
       "      <td>&lt; 1 yr</td>\n",
       "      <td>&lt; 20</td>\n",
       "      <td>&gt;= 7 yrs</td>\n",
       "      <td>21</td>\n",
       "      <td>1</td>\n",
       "      <td>0</td>\n",
       "      <td>...</td>\n",
       "      <td>1</td>\n",
       "      <td>0</td>\n",
       "      <td>0</td>\n",
       "      <td>1</td>\n",
       "      <td>0</td>\n",
       "      <td>0</td>\n",
       "      <td>0</td>\n",
       "      <td>1</td>\n",
       "      <td>0</td>\n",
       "      <td>0</td>\n",
       "    </tr>\n",
       "    <tr>\n",
       "      <th>1</th>\n",
       "      <td>no checking account</td>\n",
       "      <td>9</td>\n",
       "      <td>2799</td>\n",
       "      <td>unknown/no savings account</td>\n",
       "      <td>1 &lt;= ... &lt; 4 yrs</td>\n",
       "      <td>25 &lt;= ... &lt; 35</td>\n",
       "      <td>1 &lt;= ... &lt; 4 yrs</td>\n",
       "      <td>36</td>\n",
       "      <td>2-3</td>\n",
       "      <td>1</td>\n",
       "      <td>...</td>\n",
       "      <td>0</td>\n",
       "      <td>0</td>\n",
       "      <td>1</td>\n",
       "      <td>1</td>\n",
       "      <td>0</td>\n",
       "      <td>0</td>\n",
       "      <td>0</td>\n",
       "      <td>1</td>\n",
       "      <td>0</td>\n",
       "      <td>0</td>\n",
       "    </tr>\n",
       "    <tr>\n",
       "      <th>2</th>\n",
       "      <td>... &lt; 0 DM</td>\n",
       "      <td>12</td>\n",
       "      <td>841</td>\n",
       "      <td>... &lt;  100 DM</td>\n",
       "      <td>4 &lt;= ... &lt; 7 yrs</td>\n",
       "      <td>25 &lt;= ... &lt; 35</td>\n",
       "      <td>&gt;= 7 yrs</td>\n",
       "      <td>23</td>\n",
       "      <td>1</td>\n",
       "      <td>0</td>\n",
       "      <td>...</td>\n",
       "      <td>0</td>\n",
       "      <td>0</td>\n",
       "      <td>1</td>\n",
       "      <td>1</td>\n",
       "      <td>0</td>\n",
       "      <td>0</td>\n",
       "      <td>0</td>\n",
       "      <td>0</td>\n",
       "      <td>0</td>\n",
       "      <td>1</td>\n",
       "    </tr>\n",
       "    <tr>\n",
       "      <th>3</th>\n",
       "      <td>no checking account</td>\n",
       "      <td>12</td>\n",
       "      <td>2122</td>\n",
       "      <td>unknown/no savings account</td>\n",
       "      <td>1 &lt;= ... &lt; 4 yrs</td>\n",
       "      <td>20 &lt;= ... &lt; 25</td>\n",
       "      <td>1 &lt;= ... &lt; 4 yrs</td>\n",
       "      <td>39</td>\n",
       "      <td>2-3</td>\n",
       "      <td>1</td>\n",
       "      <td>...</td>\n",
       "      <td>0</td>\n",
       "      <td>0</td>\n",
       "      <td>1</td>\n",
       "      <td>1</td>\n",
       "      <td>0</td>\n",
       "      <td>0</td>\n",
       "      <td>0</td>\n",
       "      <td>0</td>\n",
       "      <td>0</td>\n",
       "      <td>1</td>\n",
       "    </tr>\n",
       "    <tr>\n",
       "      <th>4</th>\n",
       "      <td>no checking account</td>\n",
       "      <td>12</td>\n",
       "      <td>2171</td>\n",
       "      <td>unknown/no savings account</td>\n",
       "      <td>1 &lt;= ... &lt; 4 yrs</td>\n",
       "      <td>&lt; 20</td>\n",
       "      <td>&gt;= 7 yrs</td>\n",
       "      <td>38</td>\n",
       "      <td>2-3</td>\n",
       "      <td>0</td>\n",
       "      <td>...</td>\n",
       "      <td>1</td>\n",
       "      <td>0</td>\n",
       "      <td>0</td>\n",
       "      <td>0</td>\n",
       "      <td>0</td>\n",
       "      <td>0</td>\n",
       "      <td>1</td>\n",
       "      <td>0</td>\n",
       "      <td>0</td>\n",
       "      <td>1</td>\n",
       "    </tr>\n",
       "    <tr>\n",
       "      <th>...</th>\n",
       "      <td>...</td>\n",
       "      <td>...</td>\n",
       "      <td>...</td>\n",
       "      <td>...</td>\n",
       "      <td>...</td>\n",
       "      <td>...</td>\n",
       "      <td>...</td>\n",
       "      <td>...</td>\n",
       "      <td>...</td>\n",
       "      <td>...</td>\n",
       "      <td>...</td>\n",
       "      <td>...</td>\n",
       "      <td>...</td>\n",
       "      <td>...</td>\n",
       "      <td>...</td>\n",
       "      <td>...</td>\n",
       "      <td>...</td>\n",
       "      <td>...</td>\n",
       "      <td>...</td>\n",
       "      <td>...</td>\n",
       "      <td>...</td>\n",
       "    </tr>\n",
       "    <tr>\n",
       "      <th>995</th>\n",
       "      <td>no checking account</td>\n",
       "      <td>24</td>\n",
       "      <td>1987</td>\n",
       "      <td>unknown/no savings account</td>\n",
       "      <td>1 &lt;= ... &lt; 4 yrs</td>\n",
       "      <td>25 &lt;= ... &lt; 35</td>\n",
       "      <td>&gt;= 7 yrs</td>\n",
       "      <td>21</td>\n",
       "      <td>1</td>\n",
       "      <td>1</td>\n",
       "      <td>...</td>\n",
       "      <td>0</td>\n",
       "      <td>0</td>\n",
       "      <td>1</td>\n",
       "      <td>1</td>\n",
       "      <td>0</td>\n",
       "      <td>0</td>\n",
       "      <td>0</td>\n",
       "      <td>0</td>\n",
       "      <td>0</td>\n",
       "      <td>1</td>\n",
       "    </tr>\n",
       "    <tr>\n",
       "      <th>996</th>\n",
       "      <td>no checking account</td>\n",
       "      <td>24</td>\n",
       "      <td>2303</td>\n",
       "      <td>unknown/no savings account</td>\n",
       "      <td>&gt;= 7 yrs</td>\n",
       "      <td>&lt; 20</td>\n",
       "      <td>&lt; 1 yr</td>\n",
       "      <td>45</td>\n",
       "      <td>1</td>\n",
       "      <td>0</td>\n",
       "      <td>...</td>\n",
       "      <td>0</td>\n",
       "      <td>0</td>\n",
       "      <td>1</td>\n",
       "      <td>1</td>\n",
       "      <td>0</td>\n",
       "      <td>0</td>\n",
       "      <td>1</td>\n",
       "      <td>1</td>\n",
       "      <td>0</td>\n",
       "      <td>0</td>\n",
       "    </tr>\n",
       "    <tr>\n",
       "      <th>997</th>\n",
       "      <td>... &gt;= 200 DM / salary for at least 1 year</td>\n",
       "      <td>21</td>\n",
       "      <td>12680</td>\n",
       "      <td>... &gt;= 1000 DM</td>\n",
       "      <td>&gt;= 7 yrs</td>\n",
       "      <td>&lt; 20</td>\n",
       "      <td>&gt;= 7 yrs</td>\n",
       "      <td>30</td>\n",
       "      <td>1</td>\n",
       "      <td>0</td>\n",
       "      <td>...</td>\n",
       "      <td>0</td>\n",
       "      <td>1</td>\n",
       "      <td>0</td>\n",
       "      <td>1</td>\n",
       "      <td>0</td>\n",
       "      <td>1</td>\n",
       "      <td>0</td>\n",
       "      <td>0</td>\n",
       "      <td>0</td>\n",
       "      <td>0</td>\n",
       "    </tr>\n",
       "    <tr>\n",
       "      <th>998</th>\n",
       "      <td>... &lt; 0 DM</td>\n",
       "      <td>12</td>\n",
       "      <td>6468</td>\n",
       "      <td>... &gt;= 1000 DM</td>\n",
       "      <td>unemployed</td>\n",
       "      <td>25 &lt;= ... &lt; 35</td>\n",
       "      <td>&lt; 1 yr</td>\n",
       "      <td>52</td>\n",
       "      <td>1</td>\n",
       "      <td>0</td>\n",
       "      <td>...</td>\n",
       "      <td>0</td>\n",
       "      <td>1</td>\n",
       "      <td>0</td>\n",
       "      <td>1</td>\n",
       "      <td>0</td>\n",
       "      <td>0</td>\n",
       "      <td>1</td>\n",
       "      <td>0</td>\n",
       "      <td>0</td>\n",
       "      <td>0</td>\n",
       "    </tr>\n",
       "    <tr>\n",
       "      <th>999</th>\n",
       "      <td>no checking account</td>\n",
       "      <td>30</td>\n",
       "      <td>6350</td>\n",
       "      <td>... &gt;= 1000 DM</td>\n",
       "      <td>&gt;= 7 yrs</td>\n",
       "      <td>&lt; 20</td>\n",
       "      <td>&gt;= 7 yrs</td>\n",
       "      <td>31</td>\n",
       "      <td>1</td>\n",
       "      <td>0</td>\n",
       "      <td>...</td>\n",
       "      <td>1</td>\n",
       "      <td>0</td>\n",
       "      <td>0</td>\n",
       "      <td>1</td>\n",
       "      <td>0</td>\n",
       "      <td>0</td>\n",
       "      <td>1</td>\n",
       "      <td>1</td>\n",
       "      <td>0</td>\n",
       "      <td>0</td>\n",
       "    </tr>\n",
       "  </tbody>\n",
       "</table>\n",
       "<p>1000 rows × 41 columns</p>\n",
       "</div>"
      ],
      "text/plain": [
       "                                         status  duration  amount  \\\n",
       "0                           no checking account        18    1049   \n",
       "1                           no checking account         9    2799   \n",
       "2                                    ... < 0 DM        12     841   \n",
       "3                           no checking account        12    2122   \n",
       "4                           no checking account        12    2171   \n",
       "..                                          ...       ...     ...   \n",
       "995                         no checking account        24    1987   \n",
       "996                         no checking account        24    2303   \n",
       "997  ... >= 200 DM / salary for at least 1 year        21   12680   \n",
       "998                                  ... < 0 DM        12    6468   \n",
       "999                         no checking account        30    6350   \n",
       "\n",
       "                        savings employment_duration installment_rate  \\\n",
       "0    unknown/no savings account              < 1 yr             < 20   \n",
       "1    unknown/no savings account    1 <= ... < 4 yrs   25 <= ... < 35   \n",
       "2                 ... <  100 DM    4 <= ... < 7 yrs   25 <= ... < 35   \n",
       "3    unknown/no savings account    1 <= ... < 4 yrs   20 <= ... < 25   \n",
       "4    unknown/no savings account    1 <= ... < 4 yrs             < 20   \n",
       "..                          ...                 ...              ...   \n",
       "995  unknown/no savings account    1 <= ... < 4 yrs   25 <= ... < 35   \n",
       "996  unknown/no savings account            >= 7 yrs             < 20   \n",
       "997              ... >= 1000 DM            >= 7 yrs             < 20   \n",
       "998              ... >= 1000 DM          unemployed   25 <= ... < 35   \n",
       "999              ... >= 1000 DM            >= 7 yrs             < 20   \n",
       "\n",
       "    present_residence  age number_credits  people_liable  ...  \\\n",
       "0            >= 7 yrs   21              1              0  ...   \n",
       "1    1 <= ... < 4 yrs   36            2-3              1  ...   \n",
       "2            >= 7 yrs   23              1              0  ...   \n",
       "3    1 <= ... < 4 yrs   39            2-3              1  ...   \n",
       "4            >= 7 yrs   38            2-3              0  ...   \n",
       "..                ...  ...            ...            ...  ...   \n",
       "995          >= 7 yrs   21              1              1  ...   \n",
       "996            < 1 yr   45              1              0  ...   \n",
       "997          >= 7 yrs   30              1              0  ...   \n",
       "998            < 1 yr   52              1              0  ...   \n",
       "999          >= 7 yrs   31              1              0  ...   \n",
       "\n",
       "     property_car or other  property_real estate  \\\n",
       "0                        1                     0   \n",
       "1                        0                     0   \n",
       "2                        0                     0   \n",
       "3                        0                     0   \n",
       "4                        1                     0   \n",
       "..                     ...                   ...   \n",
       "995                      0                     0   \n",
       "996                      0                     0   \n",
       "997                      0                     1   \n",
       "998                      0                     1   \n",
       "999                      1                     0   \n",
       "\n",
       "     property_unknown / no property  other_installment_plans_none  \\\n",
       "0                                 0                             1   \n",
       "1                                 1                             1   \n",
       "2                                 1                             1   \n",
       "3                                 1                             1   \n",
       "4                                 0                             0   \n",
       "..                              ...                           ...   \n",
       "995                               1                             1   \n",
       "996                               1                             1   \n",
       "997                               0                             1   \n",
       "998                               0                             1   \n",
       "999                               0                             1   \n",
       "\n",
       "     other_installment_plans_stores  housing_own  housing_rent  \\\n",
       "0                                 0            0             0   \n",
       "1                                 0            0             0   \n",
       "2                                 0            0             0   \n",
       "3                                 0            0             0   \n",
       "4                                 0            0             1   \n",
       "..                              ...          ...           ...   \n",
       "995                               0            0             0   \n",
       "996                               0            0             1   \n",
       "997                               0            1             0   \n",
       "998                               0            0             1   \n",
       "999                               0            0             1   \n",
       "\n",
       "     job_skilled employee/official  job_unemployed/unskilled - non-resident  \\\n",
       "0                                1                                        0   \n",
       "1                                1                                        0   \n",
       "2                                0                                        0   \n",
       "3                                0                                        0   \n",
       "4                                0                                        0   \n",
       "..                             ...                                      ...   \n",
       "995                              0                                        0   \n",
       "996                              1                                        0   \n",
       "997                              0                                        0   \n",
       "998                              0                                        0   \n",
       "999                              1                                        0   \n",
       "\n",
       "     job_unskilled - resident  \n",
       "0                           0  \n",
       "1                           0  \n",
       "2                           1  \n",
       "3                           1  \n",
       "4                           1  \n",
       "..                        ...  \n",
       "995                         1  \n",
       "996                         0  \n",
       "997                         0  \n",
       "998                         0  \n",
       "999                         0  \n",
       "\n",
       "[1000 rows x 41 columns]"
      ]
     },
     "execution_count": 21,
     "metadata": {},
     "output_type": "execute_result"
    }
   ],
   "source": [
    "# 1 или 0 для бинарных\n",
    "for e in d:\n",
    "    if d[e] == 'binar':\n",
    "        data_encoded[e] = data_encoded[e].apply(lambda x: 1 if x == data_encoded[e].unique()[1] else 0)\n",
    "data_encoded"
   ]
  },
  {
   "cell_type": "code",
   "execution_count": 22,
   "metadata": {},
   "outputs": [
    {
     "name": "stdout",
     "output_type": "stream",
     "text": [
      "status\n",
      "savings\n",
      "employment_duration\n",
      "installment_rate\n",
      "present_residence\n",
      "number_credits\n"
     ]
    }
   ],
   "source": [
    "# находим порядковые признаки\n",
    "for e in d:\n",
    "    if d[e] == 'ordinal':\n",
    "        print(e)"
   ]
  },
  {
   "cell_type": "code",
   "execution_count": 23,
   "metadata": {},
   "outputs": [],
   "source": [
    "# вручную пишем правильный порядок для числового представления\n",
    "\n",
    "order_dict = {'status': ['no checking account', '... < 0 DM', '0<= ... < 200 DM', \n",
    "                         '... >= 200 DM / salary for at least 1 year' ], \n",
    "              'savings': ['unknown/no savings account', '... <  100 DM', '100 <= ... <  500 DM',\n",
    "                          '500 <= ... < 1000 DM',  '... >= 1000 DM'], \n",
    "              'employment_duration': [ 'unemployed', '< 1 yr', '1 <= ... < 4 yrs', '4 <= ... < 7 yrs','>= 7 yrs'], \n",
    "              'installment_rate': ['< 20', '20 <= ... < 25', '25 <= ... < 35', '>= 35'],\n",
    "              'present_residence': [ '< 1 yr', '1 <= ... < 4 yrs', '4 <= ... < 7 yrs' , '>= 7 yrs'],\n",
    "              'number_credits': ['1', '2-3', '4-5', '>= 6']}\n"
   ]
  },
  {
   "cell_type": "code",
   "execution_count": 24,
   "metadata": {},
   "outputs": [
    {
     "data": {
      "text/html": [
       "<div>\n",
       "<style scoped>\n",
       "    .dataframe tbody tr th:only-of-type {\n",
       "        vertical-align: middle;\n",
       "    }\n",
       "\n",
       "    .dataframe tbody tr th {\n",
       "        vertical-align: top;\n",
       "    }\n",
       "\n",
       "    .dataframe thead th {\n",
       "        text-align: right;\n",
       "    }\n",
       "</style>\n",
       "<table border=\"1\" class=\"dataframe\">\n",
       "  <thead>\n",
       "    <tr style=\"text-align: right;\">\n",
       "      <th></th>\n",
       "      <th>status</th>\n",
       "      <th>duration</th>\n",
       "      <th>amount</th>\n",
       "      <th>savings</th>\n",
       "      <th>employment_duration</th>\n",
       "      <th>installment_rate</th>\n",
       "      <th>present_residence</th>\n",
       "      <th>age</th>\n",
       "      <th>number_credits</th>\n",
       "      <th>people_liable</th>\n",
       "      <th>...</th>\n",
       "      <th>property_car or other</th>\n",
       "      <th>property_real estate</th>\n",
       "      <th>property_unknown / no property</th>\n",
       "      <th>other_installment_plans_none</th>\n",
       "      <th>other_installment_plans_stores</th>\n",
       "      <th>housing_own</th>\n",
       "      <th>housing_rent</th>\n",
       "      <th>job_skilled employee/official</th>\n",
       "      <th>job_unemployed/unskilled - non-resident</th>\n",
       "      <th>job_unskilled - resident</th>\n",
       "    </tr>\n",
       "  </thead>\n",
       "  <tbody>\n",
       "    <tr>\n",
       "      <th>0</th>\n",
       "      <td>0</td>\n",
       "      <td>18</td>\n",
       "      <td>1049</td>\n",
       "      <td>0</td>\n",
       "      <td>1</td>\n",
       "      <td>0</td>\n",
       "      <td>3</td>\n",
       "      <td>21</td>\n",
       "      <td>0</td>\n",
       "      <td>0</td>\n",
       "      <td>...</td>\n",
       "      <td>1</td>\n",
       "      <td>0</td>\n",
       "      <td>0</td>\n",
       "      <td>1</td>\n",
       "      <td>0</td>\n",
       "      <td>0</td>\n",
       "      <td>0</td>\n",
       "      <td>1</td>\n",
       "      <td>0</td>\n",
       "      <td>0</td>\n",
       "    </tr>\n",
       "    <tr>\n",
       "      <th>1</th>\n",
       "      <td>0</td>\n",
       "      <td>9</td>\n",
       "      <td>2799</td>\n",
       "      <td>0</td>\n",
       "      <td>2</td>\n",
       "      <td>2</td>\n",
       "      <td>1</td>\n",
       "      <td>36</td>\n",
       "      <td>1</td>\n",
       "      <td>1</td>\n",
       "      <td>...</td>\n",
       "      <td>0</td>\n",
       "      <td>0</td>\n",
       "      <td>1</td>\n",
       "      <td>1</td>\n",
       "      <td>0</td>\n",
       "      <td>0</td>\n",
       "      <td>0</td>\n",
       "      <td>1</td>\n",
       "      <td>0</td>\n",
       "      <td>0</td>\n",
       "    </tr>\n",
       "    <tr>\n",
       "      <th>2</th>\n",
       "      <td>1</td>\n",
       "      <td>12</td>\n",
       "      <td>841</td>\n",
       "      <td>1</td>\n",
       "      <td>3</td>\n",
       "      <td>2</td>\n",
       "      <td>3</td>\n",
       "      <td>23</td>\n",
       "      <td>0</td>\n",
       "      <td>0</td>\n",
       "      <td>...</td>\n",
       "      <td>0</td>\n",
       "      <td>0</td>\n",
       "      <td>1</td>\n",
       "      <td>1</td>\n",
       "      <td>0</td>\n",
       "      <td>0</td>\n",
       "      <td>0</td>\n",
       "      <td>0</td>\n",
       "      <td>0</td>\n",
       "      <td>1</td>\n",
       "    </tr>\n",
       "    <tr>\n",
       "      <th>3</th>\n",
       "      <td>0</td>\n",
       "      <td>12</td>\n",
       "      <td>2122</td>\n",
       "      <td>0</td>\n",
       "      <td>2</td>\n",
       "      <td>1</td>\n",
       "      <td>1</td>\n",
       "      <td>39</td>\n",
       "      <td>1</td>\n",
       "      <td>1</td>\n",
       "      <td>...</td>\n",
       "      <td>0</td>\n",
       "      <td>0</td>\n",
       "      <td>1</td>\n",
       "      <td>1</td>\n",
       "      <td>0</td>\n",
       "      <td>0</td>\n",
       "      <td>0</td>\n",
       "      <td>0</td>\n",
       "      <td>0</td>\n",
       "      <td>1</td>\n",
       "    </tr>\n",
       "    <tr>\n",
       "      <th>4</th>\n",
       "      <td>0</td>\n",
       "      <td>12</td>\n",
       "      <td>2171</td>\n",
       "      <td>0</td>\n",
       "      <td>2</td>\n",
       "      <td>0</td>\n",
       "      <td>3</td>\n",
       "      <td>38</td>\n",
       "      <td>1</td>\n",
       "      <td>0</td>\n",
       "      <td>...</td>\n",
       "      <td>1</td>\n",
       "      <td>0</td>\n",
       "      <td>0</td>\n",
       "      <td>0</td>\n",
       "      <td>0</td>\n",
       "      <td>0</td>\n",
       "      <td>1</td>\n",
       "      <td>0</td>\n",
       "      <td>0</td>\n",
       "      <td>1</td>\n",
       "    </tr>\n",
       "    <tr>\n",
       "      <th>...</th>\n",
       "      <td>...</td>\n",
       "      <td>...</td>\n",
       "      <td>...</td>\n",
       "      <td>...</td>\n",
       "      <td>...</td>\n",
       "      <td>...</td>\n",
       "      <td>...</td>\n",
       "      <td>...</td>\n",
       "      <td>...</td>\n",
       "      <td>...</td>\n",
       "      <td>...</td>\n",
       "      <td>...</td>\n",
       "      <td>...</td>\n",
       "      <td>...</td>\n",
       "      <td>...</td>\n",
       "      <td>...</td>\n",
       "      <td>...</td>\n",
       "      <td>...</td>\n",
       "      <td>...</td>\n",
       "      <td>...</td>\n",
       "      <td>...</td>\n",
       "    </tr>\n",
       "    <tr>\n",
       "      <th>995</th>\n",
       "      <td>0</td>\n",
       "      <td>24</td>\n",
       "      <td>1987</td>\n",
       "      <td>0</td>\n",
       "      <td>2</td>\n",
       "      <td>2</td>\n",
       "      <td>3</td>\n",
       "      <td>21</td>\n",
       "      <td>0</td>\n",
       "      <td>1</td>\n",
       "      <td>...</td>\n",
       "      <td>0</td>\n",
       "      <td>0</td>\n",
       "      <td>1</td>\n",
       "      <td>1</td>\n",
       "      <td>0</td>\n",
       "      <td>0</td>\n",
       "      <td>0</td>\n",
       "      <td>0</td>\n",
       "      <td>0</td>\n",
       "      <td>1</td>\n",
       "    </tr>\n",
       "    <tr>\n",
       "      <th>996</th>\n",
       "      <td>0</td>\n",
       "      <td>24</td>\n",
       "      <td>2303</td>\n",
       "      <td>0</td>\n",
       "      <td>4</td>\n",
       "      <td>0</td>\n",
       "      <td>0</td>\n",
       "      <td>45</td>\n",
       "      <td>0</td>\n",
       "      <td>0</td>\n",
       "      <td>...</td>\n",
       "      <td>0</td>\n",
       "      <td>0</td>\n",
       "      <td>1</td>\n",
       "      <td>1</td>\n",
       "      <td>0</td>\n",
       "      <td>0</td>\n",
       "      <td>1</td>\n",
       "      <td>1</td>\n",
       "      <td>0</td>\n",
       "      <td>0</td>\n",
       "    </tr>\n",
       "    <tr>\n",
       "      <th>997</th>\n",
       "      <td>3</td>\n",
       "      <td>21</td>\n",
       "      <td>12680</td>\n",
       "      <td>4</td>\n",
       "      <td>4</td>\n",
       "      <td>0</td>\n",
       "      <td>3</td>\n",
       "      <td>30</td>\n",
       "      <td>0</td>\n",
       "      <td>0</td>\n",
       "      <td>...</td>\n",
       "      <td>0</td>\n",
       "      <td>1</td>\n",
       "      <td>0</td>\n",
       "      <td>1</td>\n",
       "      <td>0</td>\n",
       "      <td>1</td>\n",
       "      <td>0</td>\n",
       "      <td>0</td>\n",
       "      <td>0</td>\n",
       "      <td>0</td>\n",
       "    </tr>\n",
       "    <tr>\n",
       "      <th>998</th>\n",
       "      <td>1</td>\n",
       "      <td>12</td>\n",
       "      <td>6468</td>\n",
       "      <td>4</td>\n",
       "      <td>0</td>\n",
       "      <td>2</td>\n",
       "      <td>0</td>\n",
       "      <td>52</td>\n",
       "      <td>0</td>\n",
       "      <td>0</td>\n",
       "      <td>...</td>\n",
       "      <td>0</td>\n",
       "      <td>1</td>\n",
       "      <td>0</td>\n",
       "      <td>1</td>\n",
       "      <td>0</td>\n",
       "      <td>0</td>\n",
       "      <td>1</td>\n",
       "      <td>0</td>\n",
       "      <td>0</td>\n",
       "      <td>0</td>\n",
       "    </tr>\n",
       "    <tr>\n",
       "      <th>999</th>\n",
       "      <td>0</td>\n",
       "      <td>30</td>\n",
       "      <td>6350</td>\n",
       "      <td>4</td>\n",
       "      <td>4</td>\n",
       "      <td>0</td>\n",
       "      <td>3</td>\n",
       "      <td>31</td>\n",
       "      <td>0</td>\n",
       "      <td>0</td>\n",
       "      <td>...</td>\n",
       "      <td>1</td>\n",
       "      <td>0</td>\n",
       "      <td>0</td>\n",
       "      <td>1</td>\n",
       "      <td>0</td>\n",
       "      <td>0</td>\n",
       "      <td>1</td>\n",
       "      <td>1</td>\n",
       "      <td>0</td>\n",
       "      <td>0</td>\n",
       "    </tr>\n",
       "  </tbody>\n",
       "</table>\n",
       "<p>1000 rows × 41 columns</p>\n",
       "</div>"
      ],
      "text/plain": [
       "     status  duration  amount  savings  employment_duration  installment_rate  \\\n",
       "0         0        18    1049        0                    1                 0   \n",
       "1         0         9    2799        0                    2                 2   \n",
       "2         1        12     841        1                    3                 2   \n",
       "3         0        12    2122        0                    2                 1   \n",
       "4         0        12    2171        0                    2                 0   \n",
       "..      ...       ...     ...      ...                  ...               ...   \n",
       "995       0        24    1987        0                    2                 2   \n",
       "996       0        24    2303        0                    4                 0   \n",
       "997       3        21   12680        4                    4                 0   \n",
       "998       1        12    6468        4                    0                 2   \n",
       "999       0        30    6350        4                    4                 0   \n",
       "\n",
       "     present_residence  age  number_credits  people_liable  ...  \\\n",
       "0                    3   21               0              0  ...   \n",
       "1                    1   36               1              1  ...   \n",
       "2                    3   23               0              0  ...   \n",
       "3                    1   39               1              1  ...   \n",
       "4                    3   38               1              0  ...   \n",
       "..                 ...  ...             ...            ...  ...   \n",
       "995                  3   21               0              1  ...   \n",
       "996                  0   45               0              0  ...   \n",
       "997                  3   30               0              0  ...   \n",
       "998                  0   52               0              0  ...   \n",
       "999                  3   31               0              0  ...   \n",
       "\n",
       "     property_car or other  property_real estate  \\\n",
       "0                        1                     0   \n",
       "1                        0                     0   \n",
       "2                        0                     0   \n",
       "3                        0                     0   \n",
       "4                        1                     0   \n",
       "..                     ...                   ...   \n",
       "995                      0                     0   \n",
       "996                      0                     0   \n",
       "997                      0                     1   \n",
       "998                      0                     1   \n",
       "999                      1                     0   \n",
       "\n",
       "     property_unknown / no property  other_installment_plans_none  \\\n",
       "0                                 0                             1   \n",
       "1                                 1                             1   \n",
       "2                                 1                             1   \n",
       "3                                 1                             1   \n",
       "4                                 0                             0   \n",
       "..                              ...                           ...   \n",
       "995                               1                             1   \n",
       "996                               1                             1   \n",
       "997                               0                             1   \n",
       "998                               0                             1   \n",
       "999                               0                             1   \n",
       "\n",
       "     other_installment_plans_stores  housing_own  housing_rent  \\\n",
       "0                                 0            0             0   \n",
       "1                                 0            0             0   \n",
       "2                                 0            0             0   \n",
       "3                                 0            0             0   \n",
       "4                                 0            0             1   \n",
       "..                              ...          ...           ...   \n",
       "995                               0            0             0   \n",
       "996                               0            0             1   \n",
       "997                               0            1             0   \n",
       "998                               0            0             1   \n",
       "999                               0            0             1   \n",
       "\n",
       "     job_skilled employee/official  job_unemployed/unskilled - non-resident  \\\n",
       "0                                1                                        0   \n",
       "1                                1                                        0   \n",
       "2                                0                                        0   \n",
       "3                                0                                        0   \n",
       "4                                0                                        0   \n",
       "..                             ...                                      ...   \n",
       "995                              0                                        0   \n",
       "996                              1                                        0   \n",
       "997                              0                                        0   \n",
       "998                              0                                        0   \n",
       "999                              1                                        0   \n",
       "\n",
       "     job_unskilled - resident  \n",
       "0                           0  \n",
       "1                           0  \n",
       "2                           1  \n",
       "3                           1  \n",
       "4                           1  \n",
       "..                        ...  \n",
       "995                         1  \n",
       "996                         0  \n",
       "997                         0  \n",
       "998                         0  \n",
       "999                         0  \n",
       "\n",
       "[1000 rows x 41 columns]"
      ]
     },
     "execution_count": 24,
     "metadata": {},
     "output_type": "execute_result"
    }
   ],
   "source": [
    "# представляем порядковые признаки в виде числовых значений\n",
    "from sklearn.preprocessing import LabelEncoder\n",
    "for e in d:\n",
    "    if d[e] == 'ordinal':\n",
    "        e_map = {label:idx for idx, label in enumerate(order_dict[e])}\n",
    "        data_encoded[e]=data_encoded[e].map(e_map)\n",
    "data_encoded"
   ]
  },
  {
   "cell_type": "markdown",
   "metadata": {
    "id": "Iz7VTiFpu8lo"
   },
   "source": [
    "### Задание 14  (2 балла)"
   ]
  },
  {
   "cell_type": "markdown",
   "metadata": {
    "id": "Mv52wusiu8lo"
   },
   "source": [
    "По результатам предыдущего задания у вас должна получиться таблица, в которой все признаки так или иначе представлены числовыми значениями. Попробуйте придумать на основе проведённых исследований данных какую-нибудь формулу, связывающую целевую переменную с признаками, не используя готовых инструментов машинного обучения. По желанию вы можете исключить ещё какие-то признаки, или, наоборот, сформировать новые на основе имеющихся. Возможно, вы захотите отмасштабировать большие наборы численных значений некоторых признаков с помощью интервалов. Цель: реализовать функцию, которая будет принимать на вход набор признаков для объекта выборки и возвращать прогноз целевой переменной (0 или 1). Например, вы можете просто сложить все признаки и возращать ноль, если сумма отрицательная, а в противном случае единицу. Но наверняка можно придумать лучше!\n",
    "Данные уже разделены на набор для обучения, который вы можете использовать как угодно, и тестовый, на котором нужно будет проверить вашу точность. Постарайтесь достичь точности хотя бы 0.6."
   ]
  },
  {
   "cell_type": "code",
   "execution_count": 32,
   "metadata": {},
   "outputs": [
    {
     "data": {
      "text/html": [
       "<div>\n",
       "<style scoped>\n",
       "    .dataframe tbody tr th:only-of-type {\n",
       "        vertical-align: middle;\n",
       "    }\n",
       "\n",
       "    .dataframe tbody tr th {\n",
       "        vertical-align: top;\n",
       "    }\n",
       "\n",
       "    .dataframe thead th {\n",
       "        text-align: right;\n",
       "    }\n",
       "</style>\n",
       "<table border=\"1\" class=\"dataframe\">\n",
       "  <thead>\n",
       "    <tr style=\"text-align: right;\">\n",
       "      <th></th>\n",
       "      <th>credit_risk</th>\n",
       "    </tr>\n",
       "  </thead>\n",
       "  <tbody>\n",
       "    <tr>\n",
       "      <th>status</th>\n",
       "      <td>-0.350847</td>\n",
       "    </tr>\n",
       "    <tr>\n",
       "      <th>duration</th>\n",
       "      <td>0.214927</td>\n",
       "    </tr>\n",
       "    <tr>\n",
       "      <th>amount</th>\n",
       "      <td>0.154740</td>\n",
       "    </tr>\n",
       "    <tr>\n",
       "      <th>savings</th>\n",
       "      <td>-0.178943</td>\n",
       "    </tr>\n",
       "    <tr>\n",
       "      <th>credit_risk</th>\n",
       "      <td>1.000000</td>\n",
       "    </tr>\n",
       "  </tbody>\n",
       "</table>\n",
       "</div>"
      ],
      "text/plain": [
       "             credit_risk\n",
       "status         -0.350847\n",
       "duration        0.214927\n",
       "amount          0.154740\n",
       "savings        -0.178943\n",
       "credit_risk     1.000000"
      ]
     },
     "execution_count": 32,
     "metadata": {},
     "output_type": "execute_result"
    }
   ],
   "source": [
    "# смотрим корреляцию всех признаков с credit_risk и указываем допустимую для нас корреляцию в 0.15 по модулю\n",
    "cor_data = pd.DataFrame(data_encoded.corr(method ='pearson')['credit_risk'])\n",
    "cor_data[abs(cor_data['credit_risk']) > 0.15]"
   ]
  },
  {
   "cell_type": "code",
   "execution_count": 30,
   "metadata": {},
   "outputs": [
    {
     "data": {
      "text/html": [
       "<div>\n",
       "<style scoped>\n",
       "    .dataframe tbody tr th:only-of-type {\n",
       "        vertical-align: middle;\n",
       "    }\n",
       "\n",
       "    .dataframe tbody tr th {\n",
       "        vertical-align: top;\n",
       "    }\n",
       "\n",
       "    .dataframe thead th {\n",
       "        text-align: right;\n",
       "    }\n",
       "</style>\n",
       "<table border=\"1\" class=\"dataframe\">\n",
       "  <thead>\n",
       "    <tr style=\"text-align: right;\">\n",
       "      <th></th>\n",
       "      <th>status</th>\n",
       "      <th>duration</th>\n",
       "      <th>amount</th>\n",
       "      <th>savings</th>\n",
       "      <th>credit_risk</th>\n",
       "    </tr>\n",
       "  </thead>\n",
       "  <tbody>\n",
       "    <tr>\n",
       "      <th>0</th>\n",
       "      <td>0</td>\n",
       "      <td>18</td>\n",
       "      <td>1049</td>\n",
       "      <td>0</td>\n",
       "      <td>0</td>\n",
       "    </tr>\n",
       "    <tr>\n",
       "      <th>1</th>\n",
       "      <td>0</td>\n",
       "      <td>9</td>\n",
       "      <td>2799</td>\n",
       "      <td>0</td>\n",
       "      <td>0</td>\n",
       "    </tr>\n",
       "    <tr>\n",
       "      <th>2</th>\n",
       "      <td>1</td>\n",
       "      <td>12</td>\n",
       "      <td>841</td>\n",
       "      <td>1</td>\n",
       "      <td>0</td>\n",
       "    </tr>\n",
       "    <tr>\n",
       "      <th>3</th>\n",
       "      <td>0</td>\n",
       "      <td>12</td>\n",
       "      <td>2122</td>\n",
       "      <td>0</td>\n",
       "      <td>0</td>\n",
       "    </tr>\n",
       "    <tr>\n",
       "      <th>4</th>\n",
       "      <td>0</td>\n",
       "      <td>12</td>\n",
       "      <td>2171</td>\n",
       "      <td>0</td>\n",
       "      <td>0</td>\n",
       "    </tr>\n",
       "    <tr>\n",
       "      <th>...</th>\n",
       "      <td>...</td>\n",
       "      <td>...</td>\n",
       "      <td>...</td>\n",
       "      <td>...</td>\n",
       "      <td>...</td>\n",
       "    </tr>\n",
       "    <tr>\n",
       "      <th>995</th>\n",
       "      <td>0</td>\n",
       "      <td>24</td>\n",
       "      <td>1987</td>\n",
       "      <td>0</td>\n",
       "      <td>1</td>\n",
       "    </tr>\n",
       "    <tr>\n",
       "      <th>996</th>\n",
       "      <td>0</td>\n",
       "      <td>24</td>\n",
       "      <td>2303</td>\n",
       "      <td>0</td>\n",
       "      <td>1</td>\n",
       "    </tr>\n",
       "    <tr>\n",
       "      <th>997</th>\n",
       "      <td>3</td>\n",
       "      <td>21</td>\n",
       "      <td>12680</td>\n",
       "      <td>4</td>\n",
       "      <td>1</td>\n",
       "    </tr>\n",
       "    <tr>\n",
       "      <th>998</th>\n",
       "      <td>1</td>\n",
       "      <td>12</td>\n",
       "      <td>6468</td>\n",
       "      <td>4</td>\n",
       "      <td>1</td>\n",
       "    </tr>\n",
       "    <tr>\n",
       "      <th>999</th>\n",
       "      <td>0</td>\n",
       "      <td>30</td>\n",
       "      <td>6350</td>\n",
       "      <td>4</td>\n",
       "      <td>1</td>\n",
       "    </tr>\n",
       "  </tbody>\n",
       "</table>\n",
       "<p>1000 rows × 5 columns</p>\n",
       "</div>"
      ],
      "text/plain": [
       "     status  duration  amount  savings  credit_risk\n",
       "0         0        18    1049        0            0\n",
       "1         0         9    2799        0            0\n",
       "2         1        12     841        1            0\n",
       "3         0        12    2122        0            0\n",
       "4         0        12    2171        0            0\n",
       "..      ...       ...     ...      ...          ...\n",
       "995       0        24    1987        0            1\n",
       "996       0        24    2303        0            1\n",
       "997       3        21   12680        4            1\n",
       "998       1        12    6468        4            1\n",
       "999       0        30    6350        4            1\n",
       "\n",
       "[1000 rows x 5 columns]"
      ]
     },
     "execution_count": 30,
     "metadata": {},
     "output_type": "execute_result"
    }
   ],
   "source": [
    "# в таблице с закодированными признаками оставляем только те, которые заметно коррелируют с возвратом кредита\n",
    "data_encoded = data_encoded[cor_data[abs(cor_data['credit_risk']) > 0.15].index]\n",
    "data_encoded"
   ]
  },
  {
   "cell_type": "code",
   "execution_count": 125,
   "metadata": {},
   "outputs": [
    {
     "name": "stdout",
     "output_type": "stream",
     "text": [
      "0.7346666666666667\n",
      "0.7\n"
     ]
    }
   ],
   "source": [
    "def predict(Xtest: np.array) -> np.array:\n",
    "    x_rez = np.empty((len(Xtest), 1))\n",
    "    for i in range(len(x)):\n",
    "         x_rez[i] = np.round(-0.08*Xtest[i,0] + 0.015*Xtest[i,1] + 0.00002*Xtest[i,2] - 0.05*Xtest[i,3], 0)\n",
    "    return x_rez\n",
    "\n",
    "from sklearn.model_selection import train_test_split\n",
    "from sklearn.metrics import accuracy_score\n",
    "X = data_encoded.drop('credit_risk', 1).values\n",
    "y = data_encoded['credit_risk'].values\n",
    "X_train, X_test, y_train, y_test = train_test_split(X, y, test_size=0.25, random_state=10)\n",
    "print(accuracy_score(y_train, predict(X_train)))\n",
    "print(accuracy_score(y_test, predict(X_test)))"
   ]
  }
 ],
 "metadata": {
  "colab": {
   "name": "hw1.ipynb",
   "provenance": []
  },
  "kernelspec": {
   "display_name": "Python 3",
   "language": "python",
   "name": "python3"
  },
  "language_info": {
   "codemirror_mode": {
    "name": "ipython",
    "version": 3
   },
   "file_extension": ".py",
   "mimetype": "text/x-python",
   "name": "python",
   "nbconvert_exporter": "python",
   "pygments_lexer": "ipython3",
   "version": "3.8.3"
  }
 },
 "nbformat": 4,
 "nbformat_minor": 1
}
