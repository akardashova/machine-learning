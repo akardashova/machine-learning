{
 "cells": [
  {
   "cell_type": "markdown",
   "metadata": {},
   "source": [
    "# Домашнее задание 6: классификация текстов"
   ]
  },
  {
   "cell_type": "markdown",
   "metadata": {},
   "source": [
    "В этом домашнем задании вам предстоит построить классификатор текстов!\n",
    "\n",
    "Данные мы будем использовать из Kaggle соревнования: https://www.kaggle.com/competitions/nlp-getting-started/data Оттуда надо скачать файл train.csv. На обучающую и тестовую выборки его поделим кодом ниже, менять его не надо!"
   ]
  },
  {
   "cell_type": "markdown",
   "metadata": {},
   "source": [
    "Мы будем работать с датасетом постов из твиттера. Нам предстоит решать задачу бинарной классификации - определять содержатся ли в твитте информация о настоящей катастрофе/инциденте или нет."
   ]
  },
  {
   "cell_type": "code",
   "execution_count": 1,
   "metadata": {},
   "outputs": [],
   "source": [
    "import pandas as pd\n",
    "import matplotlib.pyplot as plt"
   ]
  },
  {
   "cell_type": "code",
   "execution_count": 2,
   "metadata": {},
   "outputs": [],
   "source": [
    "data = pd.read_csv('train.csv')"
   ]
  },
  {
   "cell_type": "code",
   "execution_count": 3,
   "metadata": {},
   "outputs": [
    {
     "data": {
      "text/html": [
       "<div>\n",
       "<style scoped>\n",
       "    .dataframe tbody tr th:only-of-type {\n",
       "        vertical-align: middle;\n",
       "    }\n",
       "\n",
       "    .dataframe tbody tr th {\n",
       "        vertical-align: top;\n",
       "    }\n",
       "\n",
       "    .dataframe thead th {\n",
       "        text-align: right;\n",
       "    }\n",
       "</style>\n",
       "<table border=\"1\" class=\"dataframe\">\n",
       "  <thead>\n",
       "    <tr style=\"text-align: right;\">\n",
       "      <th></th>\n",
       "      <th>id</th>\n",
       "      <th>keyword</th>\n",
       "      <th>location</th>\n",
       "      <th>text</th>\n",
       "      <th>target</th>\n",
       "    </tr>\n",
       "  </thead>\n",
       "  <tbody>\n",
       "    <tr>\n",
       "      <th>0</th>\n",
       "      <td>1</td>\n",
       "      <td>NaN</td>\n",
       "      <td>NaN</td>\n",
       "      <td>Our Deeds are the Reason of this #earthquake M...</td>\n",
       "      <td>1</td>\n",
       "    </tr>\n",
       "    <tr>\n",
       "      <th>1</th>\n",
       "      <td>4</td>\n",
       "      <td>NaN</td>\n",
       "      <td>NaN</td>\n",
       "      <td>Forest fire near La Ronge Sask. Canada</td>\n",
       "      <td>1</td>\n",
       "    </tr>\n",
       "    <tr>\n",
       "      <th>2</th>\n",
       "      <td>5</td>\n",
       "      <td>NaN</td>\n",
       "      <td>NaN</td>\n",
       "      <td>All residents asked to 'shelter in place' are ...</td>\n",
       "      <td>1</td>\n",
       "    </tr>\n",
       "    <tr>\n",
       "      <th>3</th>\n",
       "      <td>6</td>\n",
       "      <td>NaN</td>\n",
       "      <td>NaN</td>\n",
       "      <td>13,000 people receive #wildfires evacuation or...</td>\n",
       "      <td>1</td>\n",
       "    </tr>\n",
       "    <tr>\n",
       "      <th>4</th>\n",
       "      <td>7</td>\n",
       "      <td>NaN</td>\n",
       "      <td>NaN</td>\n",
       "      <td>Just got sent this photo from Ruby #Alaska as ...</td>\n",
       "      <td>1</td>\n",
       "    </tr>\n",
       "  </tbody>\n",
       "</table>\n",
       "</div>"
      ],
      "text/plain": [
       "   id keyword location                                               text  \\\n",
       "0   1     NaN      NaN  Our Deeds are the Reason of this #earthquake M...   \n",
       "1   4     NaN      NaN             Forest fire near La Ronge Sask. Canada   \n",
       "2   5     NaN      NaN  All residents asked to 'shelter in place' are ...   \n",
       "3   6     NaN      NaN  13,000 people receive #wildfires evacuation or...   \n",
       "4   7     NaN      NaN  Just got sent this photo from Ruby #Alaska as ...   \n",
       "\n",
       "   target  \n",
       "0       1  \n",
       "1       1  \n",
       "2       1  \n",
       "3       1  \n",
       "4       1  "
      ]
     },
     "execution_count": 3,
     "metadata": {},
     "output_type": "execute_result"
    }
   ],
   "source": [
    "data.head()"
   ]
  },
  {
   "cell_type": "code",
   "execution_count": 4,
   "metadata": {},
   "outputs": [],
   "source": [
    "from sklearn.model_selection import train_test_split\n",
    "\n",
    "train, test = train_test_split(data, test_size=0.3, random_state=42)"
   ]
  },
  {
   "cell_type": "markdown",
   "metadata": {},
   "source": [
    "## Задание 1 (0.5 балла)\n",
    "\n",
    "Выведете на экран информацию о пропусках в данных. Если пропуски присутствуют заполните их пустой строкой."
   ]
  },
  {
   "cell_type": "code",
   "execution_count": 5,
   "metadata": {},
   "outputs": [
    {
     "data": {
      "text/plain": [
       "id             0\n",
       "keyword       44\n",
       "location    1760\n",
       "text           0\n",
       "target         0\n",
       "dtype: int64"
      ]
     },
     "execution_count": 5,
     "metadata": {},
     "output_type": "execute_result"
    }
   ],
   "source": [
    "train.isna().sum()"
   ]
  },
  {
   "cell_type": "code",
   "execution_count": 6,
   "metadata": {},
   "outputs": [
    {
     "data": {
      "text/plain": [
       "id            0\n",
       "keyword      17\n",
       "location    773\n",
       "text          0\n",
       "target        0\n",
       "dtype: int64"
      ]
     },
     "execution_count": 6,
     "metadata": {},
     "output_type": "execute_result"
    }
   ],
   "source": [
    "test.isna().sum()"
   ]
  },
  {
   "cell_type": "code",
   "execution_count": 7,
   "metadata": {},
   "outputs": [],
   "source": [
    "train = train.fillna(\"\")\n",
    "test = test.fillna(\"\")"
   ]
  },
  {
   "cell_type": "markdown",
   "metadata": {},
   "source": [
    "## Задание 2 (1 балл)\n",
    "Давайте немного посмотрим на наши данные. Визуализируйте (где явно просят) или выведете информацию о следующем:\n",
    "\n",
    "1. Какое распределение классов в обучающей выборке?\n",
    "2. Посмотрите на колонку \"keyword\" - возьмите 10 наиболее встречающихся значений, постройте ступенчатую диаграмму распределения классов в зависимости от значения keyword, сделайте выводы."
   ]
  },
  {
   "cell_type": "code",
   "execution_count": 8,
   "metadata": {},
   "outputs": [],
   "source": [
    "ten_keywords = train['keyword'].value_counts().sort_values(ascending=False)[:10].index\n",
    "filtered_train = train.loc[train.keyword.isin(ten_keywords)]"
   ]
  },
  {
   "cell_type": "code",
   "execution_count": 9,
   "metadata": {},
   "outputs": [
    {
     "name": "stdout",
     "output_type": "stream",
     "text": [
      "0    3024\n",
      "1    2305\n",
      "Name: target, dtype: int64\n"
     ]
    },
    {
     "data": {
      "image/png": "[encoded data removed]",
      "text/plain": [
       "<Figure size 432x288 with 1 Axes>"
      ]
     },
     "metadata": {},
     "output_type": "display_data"
    }
   ],
   "source": [
    "classes = train['target'].value_counts()\n",
    "print(classes)\n",
    "plt.pie(classes, labels=classes.index, autopct='%.1f%%');"
   ]
  },
  {
   "cell_type": "code",
   "execution_count": 10,
   "metadata": {},
   "outputs": [
    {
     "data": {
      "text/plain": [
       "keyword\n",
       "                     0.727273\n",
       "damage               0.472222\n",
       "deluge               0.161290\n",
       "derail               0.500000\n",
       "fatalities           0.484848\n",
       "harm                 0.133333\n",
       "nuclear%20reactor    0.400000\n",
       "refugees             0.566667\n",
       "siren                0.114286\n",
       "wreckage             1.000000\n",
       "Name: target, dtype: float64"
      ]
     },
     "execution_count": 10,
     "metadata": {},
     "output_type": "execute_result"
    }
   ],
   "source": [
    "df = filtered_train.groupby('keyword')['target'].mean()\n",
    "df"
   ]
  },
  {
   "cell_type": "code",
   "execution_count": 11,
   "metadata": {},
   "outputs": [
    {
     "data": {
      "image/png": "[encoded data removed]",
      "text/plain": [
       "<Figure size 720x504 with 1 Axes>"
      ]
     },
     "metadata": {
      "needs_background": "light"
     },
     "output_type": "display_data"
    }
   ],
   "source": [
    "plt.figure(figsize=(10,7))\n",
    "plt.step(df.index, df.values)\n",
    "plt.xlabel('keyword')\n",
    "plt.ylabel('share of class 1')\n",
    "plt.show()"
   ]
  },
  {
   "cell_type": "markdown",
   "metadata": {},
   "source": [
    "## Задание 3 (0.5 балла) \n",
    "\n",
    "В этом задании предлагается объединить все три текстовых столбца в один (просто сконкатенировать cтроки) и убрать столбец с индексом."
   ]
  },
  {
   "cell_type": "code",
   "execution_count": 12,
   "metadata": {},
   "outputs": [
    {
     "data": {
      "text/html": [
       "<div>\n",
       "<style scoped>\n",
       "    .dataframe tbody tr th:only-of-type {\n",
       "        vertical-align: middle;\n",
       "    }\n",
       "\n",
       "    .dataframe tbody tr th {\n",
       "        vertical-align: top;\n",
       "    }\n",
       "\n",
       "    .dataframe thead th {\n",
       "        text-align: right;\n",
       "    }\n",
       "</style>\n",
       "<table border=\"1\" class=\"dataframe\">\n",
       "  <thead>\n",
       "    <tr style=\"text-align: right;\">\n",
       "      <th></th>\n",
       "      <th>target</th>\n",
       "      <th>text_column</th>\n",
       "    </tr>\n",
       "  </thead>\n",
       "  <tbody>\n",
       "    <tr>\n",
       "      <th>2644</th>\n",
       "      <td>1</td>\n",
       "      <td>destruction  So you have a new weapon that can...</td>\n",
       "    </tr>\n",
       "    <tr>\n",
       "      <th>2227</th>\n",
       "      <td>0</td>\n",
       "      <td>deluge  The f$&amp;amp;@ing things I do for #GISHW...</td>\n",
       "    </tr>\n",
       "    <tr>\n",
       "      <th>5448</th>\n",
       "      <td>1</td>\n",
       "      <td>police UK DT @georgegalloway: RT @Galloway4May...</td>\n",
       "    </tr>\n",
       "    <tr>\n",
       "      <th>132</th>\n",
       "      <td>0</td>\n",
       "      <td>aftershock  Aftershock back to school kick off...</td>\n",
       "    </tr>\n",
       "    <tr>\n",
       "      <th>6845</th>\n",
       "      <td>0</td>\n",
       "      <td>trauma Montgomery County, MD in response to tr...</td>\n",
       "    </tr>\n",
       "    <tr>\n",
       "      <th>...</th>\n",
       "      <td>...</td>\n",
       "      <td>...</td>\n",
       "    </tr>\n",
       "    <tr>\n",
       "      <th>4307</th>\n",
       "      <td>0</td>\n",
       "      <td>hellfire 570 Vanderbilt; Brooklyn, NY New cock...</td>\n",
       "    </tr>\n",
       "    <tr>\n",
       "      <th>3375</th>\n",
       "      <td>1</td>\n",
       "      <td>evacuation USA Bend Post Office roofers cut ga...</td>\n",
       "    </tr>\n",
       "    <tr>\n",
       "      <th>1710</th>\n",
       "      <td>1</td>\n",
       "      <td>collided  Monsoon flooding - Monsoon rains hav...</td>\n",
       "    </tr>\n",
       "    <tr>\n",
       "      <th>4898</th>\n",
       "      <td>1</td>\n",
       "      <td>massacre Ireland Remember this was a massacre ...</td>\n",
       "    </tr>\n",
       "    <tr>\n",
       "      <th>6753</th>\n",
       "      <td>1</td>\n",
       "      <td>tornado Asheville, NC I liked a @YouTube video...</td>\n",
       "    </tr>\n",
       "  </tbody>\n",
       "</table>\n",
       "<p>2284 rows × 2 columns</p>\n",
       "</div>"
      ],
      "text/plain": [
       "      target                                        text_column\n",
       "2644       1  destruction  So you have a new weapon that can...\n",
       "2227       0  deluge  The f$&amp;@ing things I do for #GISHW...\n",
       "5448       1  police UK DT @georgegalloway: RT @Galloway4May...\n",
       "132        0  aftershock  Aftershock back to school kick off...\n",
       "6845       0  trauma Montgomery County, MD in response to tr...\n",
       "...      ...                                                ...\n",
       "4307       0  hellfire 570 Vanderbilt; Brooklyn, NY New cock...\n",
       "3375       1  evacuation USA Bend Post Office roofers cut ga...\n",
       "1710       1  collided  Monsoon flooding - Monsoon rains hav...\n",
       "4898       1  massacre Ireland Remember this was a massacre ...\n",
       "6753       1  tornado Asheville, NC I liked a @YouTube video...\n",
       "\n",
       "[2284 rows x 2 columns]"
      ]
     },
     "execution_count": 12,
     "metadata": {},
     "output_type": "execute_result"
    }
   ],
   "source": [
    "new_train = train.copy()\n",
    "new_test = test.copy()\n",
    "new_train['text_column'] = new_train['keyword'] + ' ' + new_train['location'] + ' ' + new_train['text']\n",
    "new_train.drop(['id', 'keyword', 'location', 'text'], axis=1)\n",
    "new_test['text_column'] = new_test['keyword'] + ' ' + new_test['location'] + ' ' + new_test['text']\n",
    "new_test.drop(['id', 'keyword', 'location', 'text'], axis=1)"
   ]
  },
  {
   "cell_type": "markdown",
   "metadata": {},
   "source": [
    "## Задание 4 (0.5 балла)\n",
    "\n",
    "Далее мы будем пока работать только с train частью.\n",
    "\n",
    "1. Предобработайте данные (train часть) с помощью CountVectorizer.\n",
    "2. Какого размера получилась матрица?\n"
   ]
  },
  {
   "cell_type": "code",
   "execution_count": 13,
   "metadata": {},
   "outputs": [
    {
     "data": {
      "text/plain": [
       "(5329, 18455)"
      ]
     },
     "execution_count": 13,
     "metadata": {},
     "output_type": "execute_result"
    }
   ],
   "source": [
    "from sklearn.feature_extraction.text import CountVectorizer\n",
    "cnt_vec = CountVectorizer()\n",
    "X = cnt_vec.fit_transform(new_train['text_column'])\n",
    "X.shape"
   ]
  },
  {
   "cell_type": "markdown",
   "metadata": {},
   "source": [
    "## Задание 5 (1 балл)\n",
    "\n",
    "В предыдущем пункте у вас должна была получиться достаточно большая матрица.\n",
    "Если вы взгляните на текст, то увидете, что там есть множество специальных символов, ссылок и прочего мусора.\n",
    "\n",
    "Давайте также посмотрим на словарь, который получился в результате построения CountVectorizer, его можно найти в поле vocabulary_ инстанса этого класса. Давайте напишем функцию, которая печает ответы на следующие вопросы:\n",
    "\n",
    "1. Найдите в этом словаре все слова, которые содержат цифры. Сколько таких слов нашлось?\n",
    "\n",
    "2. Найдите все слова, которые содержат символы пунктуации. Сколько таких слов нашлось? \n",
    "\n",
    "3. Сколько хэштегов (токен начинается на #) и упоминаний (токен начинается на @) осталось в словаре?"
   ]
  },
  {
   "cell_type": "code",
   "execution_count": 14,
   "metadata": {},
   "outputs": [
    {
     "name": "stdout",
     "output_type": "stream",
     "text": [
      "Number of words with digits: 3812\n",
      "Number of words with punctuation: 315\n",
      "Number of hashtags: 0\n",
      "Number of mentions: 0\n"
     ]
    }
   ],
   "source": [
    "import re\n",
    "from string import punctuation\n",
    "punc = punctuation\n",
    "\n",
    "def count_func(vec):\n",
    "    vocab = vec.vocabulary_\n",
    "    digit_count = 0\n",
    "    punc_count = 0\n",
    "    hashtag_count = 0\n",
    "    mention_count = 0\n",
    "    for elem in vocab.keys():\n",
    "        if re.search(r'\\d', elem):\n",
    "            digit_count += 1\n",
    "        if set(elem).isdisjoint(punc) == False:\n",
    "            punc_count += 1\n",
    "        if elem.startswith('#'):\n",
    "            hashtag_count += 1\n",
    "        if elem.startswith('@'):\n",
    "            mention_count += 1\n",
    "            \n",
    "    return [digit_count, punc_count, hashtag_count, mention_count]\n",
    "\n",
    "c = count_func(cnt_vec)\n",
    "\n",
    "print(f'Number of words with digits: {c[0]}\\n'\n",
    "      f'Number of words with punctuation: {c[1]}\\n'\n",
    "      f'Number of hashtags: {c[2]}\\n'\n",
    "      f'Number of mentions: {c[3]}')"
   ]
  },
  {
   "cell_type": "markdown",
   "metadata": {},
   "source": [
    "## Задание 6 (0.5 балла)\n",
    "\n",
    "Вспомним, что на семинаре по текстам мы узнали, что в nltk есть специальный токенизатор для текстов - TweetTokenizer. Попробуем применить CountVectorizer с этим токенизатором. Ответьте на все вопросы из предыдущего пункта для TweetTokenizer и сравните результаты."
   ]
  },
  {
   "cell_type": "code",
   "execution_count": 15,
   "metadata": {},
   "outputs": [
    {
     "name": "stdout",
     "output_type": "stream",
     "text": [
      "Number of words with digits: 3939\n",
      "Number of words with punctuation: 7338\n",
      "Number of hashtags: 1470\n",
      "Number of mentions: 1679\n"
     ]
    }
   ],
   "source": [
    "from nltk.tokenize import TweetTokenizer\n",
    "# Чтобы узнать, какие параметры есть у этого токенайзера - используйте help(TweetTokenizer)\n",
    "# Для того, чтобы передать токенайзер в CountVectorizer используйте параметр tokenizer\n",
    "\n",
    "new_cnt_vec = CountVectorizer(tokenizer=TweetTokenizer().tokenize)\n",
    "new_X = new_cnt_vec.fit_transform(new_train['text_column'])\n",
    "c_tw = count_func(new_cnt_vec)\n",
    "\n",
    "print(f'Number of words with digits: {c_tw[0]}\\n'\n",
    "      f'Number of words with punctuation: {c_tw[1]}\\n'\n",
    "      f'Number of hashtags: {c_tw[2]}\\n'\n",
    "      f'Number of mentions: {c_tw[3]}')"
   ]
  },
  {
   "cell_type": "code",
   "execution_count": 16,
   "metadata": {},
   "outputs": [
    {
     "data": {
      "text/plain": [
       "(5329, 19670)"
      ]
     },
     "execution_count": 16,
     "metadata": {},
     "output_type": "execute_result"
    }
   ],
   "source": [
    "new_X.shape\n",
    "# размер матрицы увеличился"
   ]
  },
  {
   "cell_type": "code",
   "execution_count": 17,
   "metadata": {},
   "outputs": [
    {
     "data": {
      "text/html": [
       "<div>\n",
       "<style scoped>\n",
       "    .dataframe tbody tr th:only-of-type {\n",
       "        vertical-align: middle;\n",
       "    }\n",
       "\n",
       "    .dataframe tbody tr th {\n",
       "        vertical-align: top;\n",
       "    }\n",
       "\n",
       "    .dataframe thead th {\n",
       "        text-align: right;\n",
       "    }\n",
       "</style>\n",
       "<table border=\"1\" class=\"dataframe\">\n",
       "  <thead>\n",
       "    <tr style=\"text-align: right;\">\n",
       "      <th></th>\n",
       "      <th>Without TweetTokenizer</th>\n",
       "      <th>With TweetTokenizer</th>\n",
       "    </tr>\n",
       "  </thead>\n",
       "  <tbody>\n",
       "    <tr>\n",
       "      <th>Number of words with digits</th>\n",
       "      <td>3812</td>\n",
       "      <td>3939</td>\n",
       "    </tr>\n",
       "    <tr>\n",
       "      <th>Number of words with punctuation</th>\n",
       "      <td>315</td>\n",
       "      <td>7338</td>\n",
       "    </tr>\n",
       "    <tr>\n",
       "      <th>Number of hashtags</th>\n",
       "      <td>0</td>\n",
       "      <td>1470</td>\n",
       "    </tr>\n",
       "    <tr>\n",
       "      <th>Number of mentions</th>\n",
       "      <td>0</td>\n",
       "      <td>1679</td>\n",
       "    </tr>\n",
       "    <tr>\n",
       "      <th>Shape</th>\n",
       "      <td>(5329, 18455)</td>\n",
       "      <td>(5329, 19670)</td>\n",
       "    </tr>\n",
       "  </tbody>\n",
       "</table>\n",
       "</div>"
      ],
      "text/plain": [
       "                                 Without TweetTokenizer With TweetTokenizer\n",
       "Number of words with digits                        3812                3939\n",
       "Number of words with punctuation                    315                7338\n",
       "Number of hashtags                                    0                1470\n",
       "Number of mentions                                    0                1679\n",
       "Shape                                     (5329, 18455)       (5329, 19670)"
      ]
     },
     "execution_count": 17,
     "metadata": {},
     "output_type": "execute_result"
    }
   ],
   "source": [
    "d = {'Without TweetTokenizer': c + [X.shape], 'With TweetTokenizer': c_tw + [new_X.shape]}\n",
    "pd.DataFrame(data=d, index=['Number of words with digits', 'Number of words with punctuation', \n",
    "                            'Number of hashtags', 'Number of mentions', 'Shape' ])"
   ]
  },
  {
   "cell_type": "markdown",
   "metadata": {},
   "source": [
    "## Задание 7 (2 балла)\n",
    "\n",
    "В scikit-learn мы можем оценивать процесс подсчета матрицы через CountVectorizer. У CountVectorizer, как и у других наследников \\_VectorizerMixin, есть аргумент tokenizer и preprocessor. preprocessor применится в самом начале к каждой строке вашего датасета, tokenizer же должен принять строку и вернуть токены.\n",
    "Давайте напишем кастомный токенайзер, которые сделает все, что нам нужно: \n",
    "\n",
    "0. Приведет все буквы к нижнему регистру\n",
    "1. Разобьет текст на токены с помощью TweetTokenizer из пакета nltk\n",
    "2. Удалит все токены содержащие не латинские буквы, кроме смайликов (будем считать ими токены содержащие только пунктуацию и, как минимум, одну скобочку) и хэштегов, которые после начальной # содержат только латинские буквы.\n",
    "3. Удалит все токены, которые перечислены в nltk.corpus.stopwords.words('english')\n",
    "4. Проведет стемминг с помощью SnowballStemmer\n",
    "\n",
    "Продемонстрируйте работу вашей функции на первых десяти текстах в обучающей выборке."
   ]
  },
  {
   "cell_type": "code",
   "execution_count": 18,
   "metadata": {},
   "outputs": [],
   "source": [
    "from nltk.stem.snowball import SnowballStemmer\n",
    "import nltk\n",
    "\n",
    "\n",
    "def smile(t):\n",
    "    if set(t).issubset(punc) and re.search(r'[()]', t):\n",
    "        return True\n",
    "    return False\n",
    "\n",
    "def ok_token(token):\n",
    "    if (token.isalpha() or smile(token) or re.fullmatch(r'[#][a-z]+', token)) \\\n",
    "    and token not in nltk.corpus.stopwords.words('english'):\n",
    "        return True\n",
    "    return False\n",
    "\n",
    "\n",
    "def custom_tokenizer(text):\n",
    "    text = text.lower()\n",
    "    tw = TweetTokenizer()\n",
    "    text_tokenized = [w for w in tw.tokenize(text) if ok_token(w)]\n",
    "    stemmer = SnowballStemmer('english')\n",
    "    text_stemmed = [stemmer.stem(w) for w in text_tokenized]\n",
    "    return text_stemmed\n"
   ]
  },
  {
   "cell_type": "code",
   "execution_count": 19,
   "metadata": {},
   "outputs": [
    {
     "name": "stdout",
     "output_type": "stream",
     "text": [
      "bridge%20collapse  Ashes 2015: AustraliaÛªs collapse at Trent Bridge among worst in history: England bundled out Australia for 60 ... http://t.co/t5TrhjUAU0\n",
      "['bridg', 'ash', 'australia', 'ûªs', 'collaps', 'trent', 'bridg', 'among', 'worst', 'histori', 'england', 'bundl', 'australia']\n",
      "\n",
      "\n",
      "hail Carol Stream, Illinois GREAT MICHIGAN TECHNIQUE CAMP\n",
      "B1G THANKS TO @bmurph1019 \n",
      "@hail_Youtsey . @termn8r13 \n",
      "#GoBlue #WrestleOn http://t.co/OasKgki6Qj\n",
      "['hail', 'carol', 'stream', 'illinoi', 'great', 'michigan', 'techniqu', 'camp', 'thank', '#goblu', '#wrestleon']\n",
      "\n",
      "\n",
      "police Houston  CNN: Tennessee movie theater shooting suspect killed by police http://t.co/dI8ElZsWNR\n",
      "['polic', 'houston', 'cnn', 'tennesse', 'movi', 'theater', 'shoot', 'suspect', 'kill', 'polic']\n",
      "\n",
      "\n",
      "rioting  Still rioting in a couple of hours left until I have to be up for class.\n",
      "['riot', 'still', 'riot', 'coupl', 'hour', 'left', 'class']\n",
      "\n",
      "\n",
      "wounds Lake Highlands Crack in the path where I wiped out this morning during beach run. Surface wounds on left elbow and right knee. http://t.co/yaqRSximph\n",
      "['wound', 'lake', 'highland', 'crack', 'path', 'wipe', 'morn', 'beach', 'run', 'surfac', 'wound', 'left', 'elbow', 'right', 'knee']\n",
      "\n",
      "\n",
      "airplane%20accident Somewhere Out There Experts in France begin examining airplane debris found on Reunion Island: French air accident experts on... http://t.co/TagZbcXFj0 #MLB\n",
      "['airplan', 'somewher', 'expert', 'franc', 'begin', 'examin', 'airplan', 'debri', 'found', 'reunion', 'island', 'french', 'air', 'accid', 'expert', '#mlb']\n",
      "\n",
      "\n",
      "bloody Isolated City In World Perth 'I came to kill Indians...for FUN': Video of smirking and remorseless Pakistani killer shows him boasting. http://t.co/FPjLwOXKlg\n",
      "['bloodi', 'isol', 'citi', 'world', 'perth', 'came', 'kill', 'indian', 'fun', 'video', 'smirk', 'remorseless', 'pakistani', 'killer', 'show', 'boast']\n",
      "\n",
      "\n",
      "burning  @JohnsonTionne except idk them?? it's really burning ??????\n",
      "['burn', 'except', 'idk', 'realli', 'burn']\n",
      "\n",
      "\n",
      "destroy he/him or she/her (ask) destroy the house\n",
      "['destroy', '(', 'ask', ')', 'destroy', 'hous']\n",
      "\n",
      "\n",
      "wounded Maracay y Nirgua, Venezuela Police Officer Wounded Suspect Dead After Exchanging Shots http://t.co/XxFk4KHbIw\n",
      "['wound', 'maracay', 'nirgua', 'venezuela', 'polic', 'offic', 'wound', 'suspect', 'dead', 'exchang', 'shot']\n",
      "\n",
      "\n"
     ]
    }
   ],
   "source": [
    "for elem in new_train['text_column'][:10]:\n",
    "    print(elem)\n",
    "    print(custom_tokenizer(elem))\n",
    "    print('\\n')"
   ]
  },
  {
   "cell_type": "markdown",
   "metadata": {},
   "source": [
    "## Задание 8 (1 балл)\n",
    "\n",
    "1. Примените CountVectorizer с реализованным выше токенизатором к обучающим и тестовым выборкам.\n",
    "2. Обучите LogisticRegression на полученных признаках.\n",
    "3. Посчитайте метрику f1-score на тестовых данных."
   ]
  },
  {
   "cell_type": "code",
   "execution_count": 21,
   "metadata": {},
   "outputs": [
    {
     "data": {
      "text/plain": [
       "(5329, 10587)"
      ]
     },
     "execution_count": 21,
     "metadata": {},
     "output_type": "execute_result"
    }
   ],
   "source": [
    "cv = CountVectorizer(tokenizer=custom_tokenizer)\n",
    "X_custom_train = cv.fit_transform(new_train['text_column'])\n",
    "X_custom_test = cv.transform(new_test['text_column'])\n",
    "X_custom_train.shape"
   ]
  },
  {
   "cell_type": "code",
   "execution_count": 22,
   "metadata": {},
   "outputs": [
    {
     "name": "stdout",
     "output_type": "stream",
     "text": [
      "F1-score: 0.7516129032258064\n"
     ]
    }
   ],
   "source": [
    "from sklearn.linear_model import LogisticRegression\n",
    "from sklearn.metrics import f1_score\n",
    "\n",
    "\n",
    "lr = LogisticRegression()\n",
    "lr.fit(X_custom_train, new_train['target'])\n",
    "lr_predict = lr.predict(X_custom_test)\n",
    "f1_cv = f1_score(new_test[\"target\"], lr_predict)\n",
    "print(f'F1-score: {f1_cv}')"
   ]
  },
  {
   "cell_type": "markdown",
   "metadata": {},
   "source": [
    "## Задание 9 (1 балл)\n",
    "\n",
    "1. Повторите 7 задание, но с tf-idf векторизатором. Как изменилось качество?\n",
    "2. Мы можем еще сильнее уменьшить размер нашей матрицы, если отбросим значения df близкие к единице. Скорее всего такие слова не несут много информации о категории, так как встречаются достаточно часто. Ограничьте максимальный df в параметрах TfIdfVectorizer, поставьте верхнюю границу равную 0.9. Как изменился размер матрицы, как изменилось качество?\n",
    "3. Также мы можем уменьшить размер матрицы, удаляя слова со слишком маленьким df. Удалось ли добиться улучшения качества? "
   ]
  },
  {
   "cell_type": "code",
   "execution_count": 23,
   "metadata": {},
   "outputs": [
    {
     "data": {
      "text/plain": [
       "(5329, 10587)"
      ]
     },
     "execution_count": 23,
     "metadata": {},
     "output_type": "execute_result"
    }
   ],
   "source": [
    "from sklearn.feature_extraction.text import TfidfVectorizer\n",
    "tf = TfidfVectorizer(tokenizer=custom_tokenizer)\n",
    "X_custom_train_2 = tf.fit_transform(new_train['text_column'])\n",
    "X_custom_test_2 = tf.transform(new_test['text_column'])\n",
    "X_custom_train_2.shape"
   ]
  },
  {
   "cell_type": "code",
   "execution_count": 24,
   "metadata": {},
   "outputs": [
    {
     "name": "stdout",
     "output_type": "stream",
     "text": [
      "F1-score: 0.743461324429605\n"
     ]
    }
   ],
   "source": [
    "lr.fit(X_custom_train_2, new_train['target'])\n",
    "lr_predict = lr.predict(X_custom_test_2)\n",
    "f1_tfid = f1_score(new_test[\"target\"], lr_predict)\n",
    "print(f'F1-score: {f1_tfid}')\n",
    "# качество немного ухудшилось"
   ]
  },
  {
   "cell_type": "code",
   "execution_count": 25,
   "metadata": {},
   "outputs": [
    {
     "data": {
      "text/plain": [
       "(5329, 10587)"
      ]
     },
     "execution_count": 25,
     "metadata": {},
     "output_type": "execute_result"
    }
   ],
   "source": [
    "tf = TfidfVectorizer(tokenizer=custom_tokenizer, max_df=0.9)\n",
    "X_custom_train_3 = tf.fit_transform(new_train['text_column'])\n",
    "X_custom_test_3 = tf.transform(new_test['text_column'])\n",
    "X_custom_train_3.shape\n",
    "# размер не изменился"
   ]
  },
  {
   "cell_type": "code",
   "execution_count": 26,
   "metadata": {},
   "outputs": [
    {
     "name": "stdout",
     "output_type": "stream",
     "text": [
      "F1-score: 0.743461324429605\n"
     ]
    }
   ],
   "source": [
    "lr.fit(X_custom_train_3, new_train['target'])\n",
    "lr_predict = lr.predict(X_custom_test_3)\n",
    "f1_tfid_max_df = f1_score(new_test['target'], lr_predict)\n",
    "print(f'F1-score: {f1_tfid_max_df}')\n",
    "# качество осталось прежним"
   ]
  },
  {
   "cell_type": "code",
   "execution_count": 27,
   "metadata": {},
   "outputs": [
    {
     "name": "stdout",
     "output_type": "stream",
     "text": [
      "F1-score (min_df=2): 0.745969983324069\n",
      "F1-score (min_df=3): 0.7434903047091412\n",
      "F1-score (min_df=4): 0.7395143487858721\n",
      "F1-score (min_df=5): 0.7411894273127754\n",
      "The best min_df = 2\n"
     ]
    }
   ],
   "source": [
    "best_f1 = 0\n",
    "best_df = None\n",
    "for df in [2, 3, 4, 5]:\n",
    "    tf = TfidfVectorizer(tokenizer=custom_tokenizer, max_df=0.9, min_df=df)\n",
    "    X_custom_train_new = tf.fit_transform(new_train['text_column'])\n",
    "    X_custom_test_new = tf.transform(new_test['text_column'])\n",
    "    lr.fit(X_custom_train_new, new_train['target'])\n",
    "    lr_predict = lr.predict(X_custom_test_new)\n",
    "    f1 = f1_score(new_test[\"target\"], lr_predict)\n",
    "    if f1 > best_f1:\n",
    "        best_f1 = f1\n",
    "        best_df_tf = df\n",
    "    print(f'F1-score (min_df={df}): {f1_score(new_test[\"target\"], lr_predict)}')\n",
    "\n",
    "print(f'The best min_df = {best_df_tf}')\n",
    "\n",
    "tf = TfidfVectorizer(tokenizer=custom_tokenizer, max_df=0.9, min_df=best_df_tf)\n",
    "X_custom_train_new = tf.fit_transform(new_train['text_column'])\n",
    "X_custom_test_new = tf.transform(new_test['text_column'])\n",
    "lr.fit(X_custom_train_new, new_train['target'])\n",
    "lr_predict = lr.predict(X_custom_test_new)\n",
    "f1_tfid_min = f1_score(new_test[\"target\"], lr_predict)"
   ]
  },
  {
   "cell_type": "markdown",
   "metadata": {},
   "source": [
    "## Задание 10 (1 балл)\n",
    "\n",
    "Еще один популяпный трюк, который позволит уменьшить количество признаков называется hashing trick. Его суть в том, то мы случайно группируем признаки ииии  ..... складываем их! А потом удаляем исходные признаки. В итоге все наши признаки это просто суммы исходных. Звучит странно, но это отлично работает. Давайте проверим этот трюк в нашем сеттинге.\n",
    "Также при таком подходе вам не нужно хранить словарь token->index, что тоже иногда полезно.\n",
    "\n",
    "1. Повторите задание 7 с HashingVectorizer, укажите количество фичей равное 5000.\n",
    "2. Какой из подходов показал самый высокий результат?"
   ]
  },
  {
   "cell_type": "code",
   "execution_count": 28,
   "metadata": {},
   "outputs": [
    {
     "name": "stdout",
     "output_type": "stream",
     "text": [
      "F1-score: 0.7253481894150418\n"
     ]
    }
   ],
   "source": [
    "from sklearn.feature_extraction.text import HashingVectorizer\n",
    "hv = HashingVectorizer(n_features=5000)\n",
    "X_custom_train_hv = hv.fit_transform(new_train['text_column'])\n",
    "X_custom_test_hv = hv.transform(new_test['text_column'])\n",
    "lr.fit(X_custom_train_hv, new_train['target'])\n",
    "lr_predict = lr.predict(X_custom_test_hv)\n",
    "f1_hash = f1_score(new_test[\"target\"], lr_predict)\n",
    "print(f'F1-score: {f1_hash}')\n",
    "# результат ухудшился"
   ]
  },
  {
   "cell_type": "markdown",
   "metadata": {},
   "source": [
    "## Задание 11 (1 балл)\n",
    "\n",
    "В этом задании нужно добиться f1 меры хотя в 0.75 на тестовых данных."
   ]
  },
  {
   "cell_type": "code",
   "execution_count": 29,
   "metadata": {},
   "outputs": [
    {
     "name": "stdout",
     "output_type": "stream",
     "text": [
      "F1-score (min_df=2): 0.7510729613733905\n",
      "F1-score (min_df=3): 0.7543953116675547\n",
      "F1-score (min_df=4): 0.7514698022447888\n",
      "F1-score (min_df=5): 0.7506702412868632\n",
      "The best min_df = 3\n"
     ]
    }
   ],
   "source": [
    "for df in [2, 3, 4, 5]:\n",
    "    cv = CountVectorizer(tokenizer=custom_tokenizer, max_df=0.9, min_df=df)\n",
    "    X_custom_train_new = cv.fit_transform(new_train['text_column'])\n",
    "    X_custom_test_new = cv.transform(new_test['text_column'])\n",
    "    lr.fit(X_custom_train_new, new_train['target'])\n",
    "    lr_predict = lr.predict(X_custom_test_new)\n",
    "    f1 = f1_score(new_test[\"target\"], lr_predict)\n",
    "    if f1 > best_f1:\n",
    "        best_f1 = f1\n",
    "        best_df_cv = df\n",
    "    print(f'F1-score (min_df={df}): {f1_score(new_test[\"target\"], lr_predict)}')\n",
    "\n",
    "print(f'The best min_df = {best_df_cv}')\n",
    "\n",
    "cv = CountVectorizer(tokenizer=custom_tokenizer, max_df=0.9, min_df=best_df_cv)\n",
    "X_custom_train_new = cv.fit_transform(new_train['text_column'])\n",
    "X_custom_test_new = cv.transform(new_test['text_column'])\n",
    "lr.fit(X_custom_train_new, new_train['target'])\n",
    "lr_predict = lr.predict(X_custom_test_new)\n",
    "f1_cv_min = f1_score(new_test[\"target\"], lr_predict)"
   ]
  },
  {
   "cell_type": "code",
   "execution_count": 30,
   "metadata": {},
   "outputs": [
    {
     "data": {
      "text/html": [
       "<div>\n",
       "<style scoped>\n",
       "    .dataframe tbody tr th:only-of-type {\n",
       "        vertical-align: middle;\n",
       "    }\n",
       "\n",
       "    .dataframe tbody tr th {\n",
       "        vertical-align: top;\n",
       "    }\n",
       "\n",
       "    .dataframe thead th {\n",
       "        text-align: right;\n",
       "    }\n",
       "</style>\n",
       "<table border=\"1\" class=\"dataframe\">\n",
       "  <thead>\n",
       "    <tr style=\"text-align: right;\">\n",
       "      <th></th>\n",
       "      <th>F1-score</th>\n",
       "    </tr>\n",
       "  </thead>\n",
       "  <tbody>\n",
       "    <tr>\n",
       "      <th>CountVectorizer F1-score</th>\n",
       "      <td>0.751613</td>\n",
       "    </tr>\n",
       "    <tr>\n",
       "      <th>TfidfVectorizer</th>\n",
       "      <td>0.743461</td>\n",
       "    </tr>\n",
       "    <tr>\n",
       "      <th>TfidfVectorizer (max_df=0.9)</th>\n",
       "      <td>0.743461</td>\n",
       "    </tr>\n",
       "    <tr>\n",
       "      <th>TfidfVectorizer (max_df=0.9, min_df=2)</th>\n",
       "      <td>0.745970</td>\n",
       "    </tr>\n",
       "    <tr>\n",
       "      <th>HashingVectorizer</th>\n",
       "      <td>0.725348</td>\n",
       "    </tr>\n",
       "    <tr>\n",
       "      <th>CountVectorizer (max_df=0.9, min_df=2)</th>\n",
       "      <td>0.754395</td>\n",
       "    </tr>\n",
       "  </tbody>\n",
       "</table>\n",
       "</div>"
      ],
      "text/plain": [
       "                                        F1-score\n",
       "CountVectorizer F1-score                0.751613\n",
       "TfidfVectorizer                         0.743461\n",
       "TfidfVectorizer (max_df=0.9)            0.743461\n",
       "TfidfVectorizer (max_df=0.9, min_df=2)  0.745970\n",
       "HashingVectorizer                       0.725348\n",
       "CountVectorizer (max_df=0.9, min_df=2)  0.754395"
      ]
     },
     "execution_count": 30,
     "metadata": {},
     "output_type": "execute_result"
    }
   ],
   "source": [
    "# Сравнение F1-мер:\n",
    "d = {'CountVectorizer F1-score': f1_cv,\n",
    "    'TfidfVectorizer': f1_tfid, \n",
    "    'TfidfVectorizer (max_df=0.9)': f1_tfid_max_df,\n",
    "     f'TfidfVectorizer (max_df=0.9, min_df={best_df_tf})': f1_tfid_min,\n",
    "    'HashingVectorizer': f1_hash,\n",
    "    f'CountVectorizer (max_df=0.9, min_df={best_df_tf})': f1_cv_min}\n",
    "\n",
    "pd.DataFrame(data=d, index=['F1-score']).T\n",
    "# самый лучший результат показал CountVectorizer при max_df=0.9, min_df=3"
   ]
  }
 ],
 "metadata": {
  "kernelspec": {
   "display_name": "Python 3",
   "language": "python",
   "name": "python3"
  },
  "language_info": {
   "codemirror_mode": {
    "name": "ipython",
    "version": 3
   },
   "file_extension": ".py",
   "mimetype": "text/x-python",
   "name": "python",
   "nbconvert_exporter": "python",
   "pygments_lexer": "ipython3",
   "version": "3.8.3"
  }
 },
 "nbformat": 4,
 "nbformat_minor": 2
}
